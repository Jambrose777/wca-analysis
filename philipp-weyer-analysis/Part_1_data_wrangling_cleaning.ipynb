{
 "cells": [
  {
   "cell_type": "markdown",
   "metadata": {},
   "source": [
    "# Analyzing solving times of a world-class speedcuber - Philipp Weyer\n",
    "\n",
    "**Speedcubing** is the activity of solving a variety of twisty puzzles as fast as possible. The most famous twisty puzzle from the Speedcubing domain (which is also responsible for shaping the term *Speedcubing*) is the widely-known [Rubik's Cube](https://en.wikipedia.org/wiki/Rubik%27s_Cube), or more generally **3x3x3 Cube** (since *Rubik's Cube* is technically a brand name). In recent years, the popularity of Speedcubing has grown exponentially all over the world, which can mainly be attributed to the efforts of its global governing body, the [World Cube Association (WCA)](https://www.worldcubeassociation.org/). In 2017 alone, there have been 925 WCA competitions in 88 different countries with 37547 distinct competitors.\n",
    "\n",
    "One of these competitors is [Philipp Weyer](https://www.worldcubeassociation.org/persons/2010WEYE01). Philipp is currently (beginning of March 2018) placed 8th in the [3x3x3 Cube WCA world rankings](https://www.worldcubeassociation.org/results/events.php?eventId=333&regionId=&years=&show=100%2BPersons&average=Average) with an average of 6.77 seconds (for the WCA's *average of 5* format each competitor is alotted 5 attempts, the best and worst attempts are removed, and the arithmetic mean of the remaining 3 attempts counts for the competitor's result).\n",
    "\n",
    "***Ok, that's all quite interesting, but what makes Philipp Weyer particularly interesting for data analysis?!***\n",
    "\n",
    "To be able to achieve such astonishing results, world-class speedcubers like Philipp do a tremendous amount of practice solves at home. But while most speedcubers do not keep track of these results, **Philipp has accumulated a data set of *over 200.000 timed 3x3x3 solves* since November 2013! Moreover, Philipp has shared this data with me to analyze it!**"
   ]
  },
  {
   "cell_type": "markdown",
   "metadata": {},
   "source": [
    "# Part I: Data wrangling & cleaning\n",
    "\n",
    "In this first part of my analysis, I will import and clean Philipp's data set to enable further analysis. Moreover, I will extract the data of Philipp's official 3x3x3 results from the [WCA data base export](https://www.worldcubeassociation.org/results/misc/export.html).\n",
    "\n",
    "* [Practice data](#Practice-data)\n",
    "* [Official results](#Official-results)\n",
    "\n",
    "If you want to skip this part and look at the analysis part right away, please have a look at [Part II: Data analysis](Part_2_data_analysis.ipynb)."
   ]
  },
  {
   "cell_type": "code",
   "execution_count": 1,
   "metadata": {
    "collapsed": true
   },
   "outputs": [],
   "source": [
    "import pandas as pd\n",
    "import numpy as np\n",
    "import matplotlib.pyplot as plt\n",
    "import datetime, re, glob"
   ]
  },
  {
   "cell_type": "markdown",
   "metadata": {},
   "source": [
    "## Practice data\n",
    "\n",
    "Philipp has provided his practice data as two separate *.csv files, one with 200.000 results and one with about 35.000."
   ]
  },
  {
   "cell_type": "code",
   "execution_count": 2,
   "metadata": {},
   "outputs": [
    {
     "name": "stdout",
     "output_type": "stream",
     "text": [
      "['raw_input\\\\times.txt', 'raw_input\\\\times2.txt']\n"
     ]
    }
   ],
   "source": [
    "files = glob.glob('raw_input/*.txt')\n",
    "print(files)"
   ]
  },
  {
   "cell_type": "markdown",
   "metadata": {},
   "source": [
    "An initial inspection of the files revelead that both of the files contain 4 columns:\n",
    "\n",
    "1. an ongoing index to count the number of solves\n",
    "2. a timestamp for each solve\n",
    "3. the time of each solve\n",
    "4. the scramble sequence according to which a solve was scrambled\n",
    "\n",
    "Let's load both files into dataframes and inspect them!"
   ]
  },
  {
   "cell_type": "code",
   "execution_count": 3,
   "metadata": {},
   "outputs": [
    {
     "data": {
      "text/html": [
       "<div>\n",
       "<style scoped>\n",
       "    .dataframe tbody tr th:only-of-type {\n",
       "        vertical-align: middle;\n",
       "    }\n",
       "\n",
       "    .dataframe tbody tr th {\n",
       "        vertical-align: top;\n",
       "    }\n",
       "\n",
       "    .dataframe thead th {\n",
       "        text-align: right;\n",
       "    }\n",
       "</style>\n",
       "<table border=\"1\" class=\"dataframe\">\n",
       "  <thead>\n",
       "    <tr style=\"text-align: right;\">\n",
       "      <th></th>\n",
       "      <th>timestamp</th>\n",
       "      <th>value</th>\n",
       "      <th>scramble</th>\n",
       "    </tr>\n",
       "    <tr>\n",
       "      <th>index</th>\n",
       "      <th></th>\n",
       "      <th></th>\n",
       "      <th></th>\n",
       "    </tr>\n",
       "  </thead>\n",
       "  <tbody>\n",
       "    <tr>\n",
       "      <th>200000</th>\n",
       "      <td>25.04.2017 13:25:59</td>\n",
       "      <td>00:07.72</td>\n",
       "      <td>D R2 B2 U' R2 U' B2 D U2 F2 R' B U2 F D R2 F' ...</td>\n",
       "    </tr>\n",
       "    <tr>\n",
       "      <th>199999</th>\n",
       "      <td>25.04.2017 13:25:37</td>\n",
       "      <td>00:06.94</td>\n",
       "      <td>D L2 F2 U B2 R2 D' F2 U' R2 L2 B' R2 U2 B' D' ...</td>\n",
       "    </tr>\n",
       "    <tr>\n",
       "      <th>199998</th>\n",
       "      <td>25.04.2017 13:25:21</td>\n",
       "      <td>00:08.13</td>\n",
       "      <td>R2 B2 F2 U2 L2 F2 D2 L2 B2 D R2 F U2 B' F2 R2 ...</td>\n",
       "    </tr>\n",
       "    <tr>\n",
       "      <th>199997</th>\n",
       "      <td>25.04.2017 13:25:06</td>\n",
       "      <td>00:06.65</td>\n",
       "      <td>D R2 U' B2 L2 D2 R2 F2 D B2 U B D2 L' B U' R2 ...</td>\n",
       "    </tr>\n",
       "    <tr>\n",
       "      <th>199996</th>\n",
       "      <td>25.04.2017 13:24:52</td>\n",
       "      <td>00:06.93</td>\n",
       "      <td>L2 F2 D' B2 U' R2 D F2 U' F2 D F' U B' U' R2 L...</td>\n",
       "    </tr>\n",
       "  </tbody>\n",
       "</table>\n",
       "</div>"
      ],
      "text/plain": [
       "                  timestamp     value  \\\n",
       "index                                   \n",
       "200000  25.04.2017 13:25:59  00:07.72   \n",
       "199999  25.04.2017 13:25:37  00:06.94   \n",
       "199998  25.04.2017 13:25:21  00:08.13   \n",
       "199997  25.04.2017 13:25:06  00:06.65   \n",
       "199996  25.04.2017 13:24:52  00:06.93   \n",
       "\n",
       "                                                 scramble  \n",
       "index                                                      \n",
       "200000  D R2 B2 U' R2 U' B2 D U2 F2 R' B U2 F D R2 F' ...  \n",
       "199999  D L2 F2 U B2 R2 D' F2 U' R2 L2 B' R2 U2 B' D' ...  \n",
       "199998  R2 B2 F2 U2 L2 F2 D2 L2 B2 D R2 F U2 B' F2 R2 ...  \n",
       "199997  D R2 U' B2 L2 D2 R2 F2 D B2 U B D2 L' B U' R2 ...  \n",
       "199996  L2 F2 D' B2 U' R2 D F2 U' F2 D F' U B' U' R2 L...  "
      ]
     },
     "execution_count": 3,
     "metadata": {},
     "output_type": "execute_result"
    }
   ],
   "source": [
    "column_names = ['index','timestamp','value','scramble']\n",
    "df1 = pd.read_csv(files[0], delimiter='\\t+', header=None, engine='python', names=column_names, index_col='index')\n",
    "df1.head()"
   ]
  },
  {
   "cell_type": "code",
   "execution_count": 4,
   "metadata": {},
   "outputs": [
    {
     "data": {
      "text/html": [
       "<div>\n",
       "<style scoped>\n",
       "    .dataframe tbody tr th:only-of-type {\n",
       "        vertical-align: middle;\n",
       "    }\n",
       "\n",
       "    .dataframe tbody tr th {\n",
       "        vertical-align: top;\n",
       "    }\n",
       "\n",
       "    .dataframe thead th {\n",
       "        text-align: right;\n",
       "    }\n",
       "</style>\n",
       "<table border=\"1\" class=\"dataframe\">\n",
       "  <thead>\n",
       "    <tr style=\"text-align: right;\">\n",
       "      <th></th>\n",
       "      <th>timestamp</th>\n",
       "      <th>value</th>\n",
       "      <th>scramble</th>\n",
       "    </tr>\n",
       "    <tr>\n",
       "      <th>index</th>\n",
       "      <th></th>\n",
       "      <th></th>\n",
       "      <th></th>\n",
       "    </tr>\n",
       "  </thead>\n",
       "  <tbody>\n",
       "    <tr>\n",
       "      <th>35163</th>\n",
       "      <td>Feb 19, 2018, 7:55:33 PM</td>\n",
       "      <td>00:07.68</td>\n",
       "      <td>R2 B2 L2 U2 L2 F2 D' L2 U' R2 U' R D' F' L U2 ...</td>\n",
       "    </tr>\n",
       "    <tr>\n",
       "      <th>35162</th>\n",
       "      <td>Feb 19, 2018, 7:46:17 PM</td>\n",
       "      <td>00:07.64</td>\n",
       "      <td>U' B2 F2 U2 L2 D' F2 D U2 R2 L2 B D2 L D' U B'...</td>\n",
       "    </tr>\n",
       "    <tr>\n",
       "      <th>35161</th>\n",
       "      <td>Feb 19, 2018, 7:46:02 PM</td>\n",
       "      <td>00:06.73</td>\n",
       "      <td>L2 U' R2 B2 D' B2 L2 U2 B2 F2 U2 L' U F D' F2 ...</td>\n",
       "    </tr>\n",
       "    <tr>\n",
       "      <th>35160</th>\n",
       "      <td>Feb 19, 2018, 7:45:49 PM</td>\n",
       "      <td>00:06.37</td>\n",
       "      <td>U2 B2 L2 D F2 R2 L2 F2 D L2 D' R' F' R B U R' ...</td>\n",
       "    </tr>\n",
       "    <tr>\n",
       "      <th>35159</th>\n",
       "      <td>Feb 19, 2018, 7:45:36 PM</td>\n",
       "      <td>00:07.08</td>\n",
       "      <td>U' R2 B2 R2 L2 D U B2 U' R2 D' L F R' B' U' L2...</td>\n",
       "    </tr>\n",
       "  </tbody>\n",
       "</table>\n",
       "</div>"
      ],
      "text/plain": [
       "                      timestamp     value  \\\n",
       "index                                       \n",
       "35163  Feb 19, 2018, 7:55:33 PM  00:07.68   \n",
       "35162  Feb 19, 2018, 7:46:17 PM  00:07.64   \n",
       "35161  Feb 19, 2018, 7:46:02 PM  00:06.73   \n",
       "35160  Feb 19, 2018, 7:45:49 PM  00:06.37   \n",
       "35159  Feb 19, 2018, 7:45:36 PM  00:07.08   \n",
       "\n",
       "                                                scramble  \n",
       "index                                                     \n",
       "35163  R2 B2 L2 U2 L2 F2 D' L2 U' R2 U' R D' F' L U2 ...  \n",
       "35162  U' B2 F2 U2 L2 D' F2 D U2 R2 L2 B D2 L D' U B'...  \n",
       "35161  L2 U' R2 B2 D' B2 L2 U2 B2 F2 U2 L' U F D' F2 ...  \n",
       "35160  U2 B2 L2 D F2 R2 L2 F2 D L2 D' R' F' R B U R' ...  \n",
       "35159  U' R2 B2 R2 L2 D U B2 U' R2 D' L F R' B' U' L2...  "
      ]
     },
     "execution_count": 4,
     "metadata": {},
     "output_type": "execute_result"
    }
   ],
   "source": [
    "df2 = pd.read_csv(files[1], delimiter='\\t+', header=None, engine='python', names=column_names, index_col='index')\n",
    "df2.head()"
   ]
  },
  {
   "cell_type": "markdown",
   "metadata": {},
   "source": [
    "The first obvious problem of the data is that the timestamps have different format! Let's first ensure that the format is consistent within each dataframe."
   ]
  },
  {
   "cell_type": "code",
   "execution_count": 5,
   "metadata": {
    "collapsed": true
   },
   "outputs": [],
   "source": [
    "# first file, example: 25.04.2017 13:25:59\n",
    "pattern1 = '^\\d{2}\\.\\d{2}\\.\\d{4} \\d{2}\\:\\d{2}\\:\\d{2}$'\n",
    "assert df1.timestamp.str.contains(pattern1).all()\n",
    "\n",
    "# second file, example: Feb 19, 2018, 7:55:33 PM\n",
    "pattern2 = '^[A-Z][a-z]{2} \\d{1,2}\\, \\d{4}\\, \\d{1,2}\\:\\d{2}\\:\\d{2} [A-Z]{2}$'\n",
    "assert df2.timestamp.str.contains(pattern2).all()"
   ]
  },
  {
   "cell_type": "markdown",
   "metadata": {},
   "source": [
    "Awesome! So let's transform each column to a datetime type and merge the dataframes:"
   ]
  },
  {
   "cell_type": "code",
   "execution_count": 6,
   "metadata": {},
   "outputs": [
    {
     "data": {
      "text/html": [
       "<div>\n",
       "<style scoped>\n",
       "    .dataframe tbody tr th:only-of-type {\n",
       "        vertical-align: middle;\n",
       "    }\n",
       "\n",
       "    .dataframe tbody tr th {\n",
       "        vertical-align: top;\n",
       "    }\n",
       "\n",
       "    .dataframe thead th {\n",
       "        text-align: right;\n",
       "    }\n",
       "</style>\n",
       "<table border=\"1\" class=\"dataframe\">\n",
       "  <thead>\n",
       "    <tr style=\"text-align: right;\">\n",
       "      <th></th>\n",
       "      <th>timestamp</th>\n",
       "      <th>value</th>\n",
       "      <th>scramble</th>\n",
       "    </tr>\n",
       "    <tr>\n",
       "      <th>index</th>\n",
       "      <th></th>\n",
       "      <th></th>\n",
       "      <th></th>\n",
       "    </tr>\n",
       "  </thead>\n",
       "  <tbody>\n",
       "    <tr>\n",
       "      <th>200000</th>\n",
       "      <td>2017-04-25 13:25:59</td>\n",
       "      <td>00:07.72</td>\n",
       "      <td>D R2 B2 U' R2 U' B2 D U2 F2 R' B U2 F D R2 F' ...</td>\n",
       "    </tr>\n",
       "    <tr>\n",
       "      <th>199999</th>\n",
       "      <td>2017-04-25 13:25:37</td>\n",
       "      <td>00:06.94</td>\n",
       "      <td>D L2 F2 U B2 R2 D' F2 U' R2 L2 B' R2 U2 B' D' ...</td>\n",
       "    </tr>\n",
       "    <tr>\n",
       "      <th>199998</th>\n",
       "      <td>2017-04-25 13:25:21</td>\n",
       "      <td>00:08.13</td>\n",
       "      <td>R2 B2 F2 U2 L2 F2 D2 L2 B2 D R2 F U2 B' F2 R2 ...</td>\n",
       "    </tr>\n",
       "    <tr>\n",
       "      <th>199997</th>\n",
       "      <td>2017-04-25 13:25:06</td>\n",
       "      <td>00:06.65</td>\n",
       "      <td>D R2 U' B2 L2 D2 R2 F2 D B2 U B D2 L' B U' R2 ...</td>\n",
       "    </tr>\n",
       "    <tr>\n",
       "      <th>199996</th>\n",
       "      <td>2017-04-25 13:24:52</td>\n",
       "      <td>00:06.93</td>\n",
       "      <td>L2 F2 D' B2 U' R2 D F2 U' F2 D F' U B' U' R2 L...</td>\n",
       "    </tr>\n",
       "  </tbody>\n",
       "</table>\n",
       "</div>"
      ],
      "text/plain": [
       "                 timestamp     value  \\\n",
       "index                                  \n",
       "200000 2017-04-25 13:25:59  00:07.72   \n",
       "199999 2017-04-25 13:25:37  00:06.94   \n",
       "199998 2017-04-25 13:25:21  00:08.13   \n",
       "199997 2017-04-25 13:25:06  00:06.65   \n",
       "199996 2017-04-25 13:24:52  00:06.93   \n",
       "\n",
       "                                                 scramble  \n",
       "index                                                      \n",
       "200000  D R2 B2 U' R2 U' B2 D U2 F2 R' B U2 F D R2 F' ...  \n",
       "199999  D L2 F2 U B2 R2 D' F2 U' R2 L2 B' R2 U2 B' D' ...  \n",
       "199998  R2 B2 F2 U2 L2 F2 D2 L2 B2 D R2 F U2 B' F2 R2 ...  \n",
       "199997  D R2 U' B2 L2 D2 R2 F2 D B2 U B D2 L' B U' R2 ...  \n",
       "199996  L2 F2 D' B2 U' R2 D F2 U' F2 D F' U B' U' R2 L...  "
      ]
     },
     "execution_count": 6,
     "metadata": {},
     "output_type": "execute_result"
    }
   ],
   "source": [
    "df1['timestamp'] = df1['timestamp'].apply(lambda x: pd.to_datetime(datetime.datetime.strptime(x, '%d.%m.%Y %H:%M:%S')))\n",
    "df2['timestamp'] = df2['timestamp'].apply(lambda x: pd.to_datetime(datetime.datetime.strptime(x, '%b %d, %Y, %I:%M:%S %p')))\n",
    "df = pd.concat([df1,df2])\n",
    "df.head()"
   ]
  },
  {
   "cell_type": "code",
   "execution_count": 7,
   "metadata": {},
   "outputs": [
    {
     "name": "stdout",
     "output_type": "stream",
     "text": [
      "<class 'pandas.core.frame.DataFrame'>\n",
      "Int64Index: 235163 entries, 200000 to 1\n",
      "Data columns (total 3 columns):\n",
      "timestamp    235163 non-null datetime64[ns]\n",
      "value        235163 non-null object\n",
      "scramble     235163 non-null object\n",
      "dtypes: datetime64[ns](1), object(2)\n",
      "memory usage: 7.2+ MB\n"
     ]
    }
   ],
   "source": [
    "df.info()"
   ]
  },
  {
   "cell_type": "markdown",
   "metadata": {},
   "source": [
    "As can be seen, the value column also needs to be converted to a float type:"
   ]
  },
  {
   "cell_type": "code",
   "execution_count": 8,
   "metadata": {},
   "outputs": [
    {
     "name": "stdout",
     "output_type": "stream",
     "text": [
      "<class 'pandas.core.frame.DataFrame'>\n",
      "Int64Index: 235163 entries, 200000 to 1\n",
      "Data columns (total 3 columns):\n",
      "timestamp    235163 non-null datetime64[ns]\n",
      "value        235163 non-null float64\n",
      "scramble     235163 non-null object\n",
      "dtypes: datetime64[ns](1), float64(1), object(1)\n",
      "memory usage: 7.2+ MB\n"
     ]
    }
   ],
   "source": [
    "value_pattern = '^\\d{2}\\:\\d{2}\\.\\d{2}$'\n",
    "assert df.value.str.contains(value_pattern).all()\n",
    "df['value'] = df['value'].apply(lambda t: 60*int(str(t)[:2]) + float(str(t)[3:]))\n",
    "df.info()"
   ]
  },
  {
   "cell_type": "markdown",
   "metadata": {},
   "source": [
    "This looks good so far. In particular, no single missing value. However, this is also surprising, because in so many solves, one would also expect some attempts to be *messep up* and resulting in a failed attempt with an unsolved puzzle. I have talked about this with Philipp and he is clarified that he has deleted such attempt and that his has only occured very rarely (roughly once every 100-200 attempts). It should be said that this is a common practice for speedcubers while practicing at home, but it might be worth to keep this in mind for future analyses.\n",
    "\n",
    "Time for some more pre-processing:"
   ]
  },
  {
   "cell_type": "code",
   "execution_count": 9,
   "metadata": {},
   "outputs": [
    {
     "data": {
      "text/html": [
       "<div>\n",
       "<style scoped>\n",
       "    .dataframe tbody tr th:only-of-type {\n",
       "        vertical-align: middle;\n",
       "    }\n",
       "\n",
       "    .dataframe tbody tr th {\n",
       "        vertical-align: top;\n",
       "    }\n",
       "\n",
       "    .dataframe thead th {\n",
       "        text-align: right;\n",
       "    }\n",
       "</style>\n",
       "<table border=\"1\" class=\"dataframe\">\n",
       "  <thead>\n",
       "    <tr style=\"text-align: right;\">\n",
       "      <th></th>\n",
       "      <th>timestamp</th>\n",
       "      <th>value</th>\n",
       "    </tr>\n",
       "    <tr>\n",
       "      <th>index</th>\n",
       "      <th></th>\n",
       "      <th></th>\n",
       "    </tr>\n",
       "  </thead>\n",
       "  <tbody>\n",
       "    <tr>\n",
       "      <th>0</th>\n",
       "      <td>2013-11-16 21:53:57</td>\n",
       "      <td>9.45</td>\n",
       "    </tr>\n",
       "    <tr>\n",
       "      <th>1</th>\n",
       "      <td>2013-11-16 21:54:15</td>\n",
       "      <td>7.81</td>\n",
       "    </tr>\n",
       "    <tr>\n",
       "      <th>2</th>\n",
       "      <td>2013-11-16 21:55:55</td>\n",
       "      <td>11.89</td>\n",
       "    </tr>\n",
       "    <tr>\n",
       "      <th>3</th>\n",
       "      <td>2013-11-16 21:56:15</td>\n",
       "      <td>8.62</td>\n",
       "    </tr>\n",
       "    <tr>\n",
       "      <th>4</th>\n",
       "      <td>2013-11-16 21:56:33</td>\n",
       "      <td>12.80</td>\n",
       "    </tr>\n",
       "  </tbody>\n",
       "</table>\n",
       "</div>"
      ],
      "text/plain": [
       "                timestamp  value\n",
       "index                           \n",
       "0     2013-11-16 21:53:57   9.45\n",
       "1     2013-11-16 21:54:15   7.81\n",
       "2     2013-11-16 21:55:55  11.89\n",
       "3     2013-11-16 21:56:15   8.62\n",
       "4     2013-11-16 21:56:33  12.80"
      ]
     },
     "execution_count": 9,
     "metadata": {},
     "output_type": "execute_result"
    }
   ],
   "source": [
    "# the data frame should be sorted by timestamp...\n",
    "df = df.sort_values(by='timestamp')\n",
    "\n",
    "# ...and then reindexed\n",
    "df = df.reset_index(drop=True)\n",
    "df.index.name = 'index'\n",
    "\n",
    "# finally, the scramble sequences won't be needed for any analysis. \n",
    "df = df.drop(columns=['scramble'])\n",
    "\n",
    "df.head()"
   ]
  },
  {
   "cell_type": "markdown",
   "metadata": {},
   "source": [
    "Now, let's look at the values in the dataframe."
   ]
  },
  {
   "cell_type": "code",
   "execution_count": 10,
   "metadata": {},
   "outputs": [
    {
     "data": {
      "text/html": [
       "<div>\n",
       "<style scoped>\n",
       "    .dataframe tbody tr th:only-of-type {\n",
       "        vertical-align: middle;\n",
       "    }\n",
       "\n",
       "    .dataframe tbody tr th {\n",
       "        vertical-align: top;\n",
       "    }\n",
       "\n",
       "    .dataframe thead th {\n",
       "        text-align: right;\n",
       "    }\n",
       "</style>\n",
       "<table border=\"1\" class=\"dataframe\">\n",
       "  <thead>\n",
       "    <tr style=\"text-align: right;\">\n",
       "      <th></th>\n",
       "      <th>value</th>\n",
       "    </tr>\n",
       "  </thead>\n",
       "  <tbody>\n",
       "    <tr>\n",
       "      <th>count</th>\n",
       "      <td>235163.000000</td>\n",
       "    </tr>\n",
       "    <tr>\n",
       "      <th>mean</th>\n",
       "      <td>8.047875</td>\n",
       "    </tr>\n",
       "    <tr>\n",
       "      <th>std</th>\n",
       "      <td>1.197019</td>\n",
       "    </tr>\n",
       "    <tr>\n",
       "      <th>min</th>\n",
       "      <td>0.950000</td>\n",
       "    </tr>\n",
       "    <tr>\n",
       "      <th>25%</th>\n",
       "      <td>7.220000</td>\n",
       "    </tr>\n",
       "    <tr>\n",
       "      <th>50%</th>\n",
       "      <td>7.930000</td>\n",
       "    </tr>\n",
       "    <tr>\n",
       "      <th>75%</th>\n",
       "      <td>8.760000</td>\n",
       "    </tr>\n",
       "    <tr>\n",
       "      <th>max</th>\n",
       "      <td>20.460000</td>\n",
       "    </tr>\n",
       "  </tbody>\n",
       "</table>\n",
       "</div>"
      ],
      "text/plain": [
       "               value\n",
       "count  235163.000000\n",
       "mean        8.047875\n",
       "std         1.197019\n",
       "min         0.950000\n",
       "25%         7.220000\n",
       "50%         7.930000\n",
       "75%         8.760000\n",
       "max        20.460000"
      ]
     },
     "execution_count": 10,
     "metadata": {},
     "output_type": "execute_result"
    }
   ],
   "source": [
    "df.describe()"
   ]
  },
  {
   "cell_type": "markdown",
   "metadata": {},
   "source": [
    "Pretty fast times! But the minimum value appears suspicious, let's examine this in detail:"
   ]
  },
  {
   "cell_type": "code",
   "execution_count": 11,
   "metadata": {},
   "outputs": [
    {
     "data": {
      "text/html": [
       "<div>\n",
       "<style scoped>\n",
       "    .dataframe tbody tr th:only-of-type {\n",
       "        vertical-align: middle;\n",
       "    }\n",
       "\n",
       "    .dataframe tbody tr th {\n",
       "        vertical-align: top;\n",
       "    }\n",
       "\n",
       "    .dataframe thead th {\n",
       "        text-align: right;\n",
       "    }\n",
       "</style>\n",
       "<table border=\"1\" class=\"dataframe\">\n",
       "  <thead>\n",
       "    <tr style=\"text-align: right;\">\n",
       "      <th></th>\n",
       "      <th>timestamp</th>\n",
       "      <th>value</th>\n",
       "    </tr>\n",
       "    <tr>\n",
       "      <th>index</th>\n",
       "      <th></th>\n",
       "      <th></th>\n",
       "    </tr>\n",
       "  </thead>\n",
       "  <tbody>\n",
       "    <tr>\n",
       "      <th>228388</th>\n",
       "      <td>2017-12-15 19:49:31</td>\n",
       "      <td>0.95</td>\n",
       "    </tr>\n",
       "    <tr>\n",
       "      <th>232856</th>\n",
       "      <td>2018-01-28 11:43:33</td>\n",
       "      <td>3.19</td>\n",
       "    </tr>\n",
       "    <tr>\n",
       "      <th>225527</th>\n",
       "      <td>2017-11-06 21:50:59</td>\n",
       "      <td>3.59</td>\n",
       "    </tr>\n",
       "    <tr>\n",
       "      <th>223865</th>\n",
       "      <td>2017-10-21 23:04:26</td>\n",
       "      <td>3.72</td>\n",
       "    </tr>\n",
       "    <tr>\n",
       "      <th>173333</th>\n",
       "      <td>2016-11-12 21:05:02</td>\n",
       "      <td>3.75</td>\n",
       "    </tr>\n",
       "  </tbody>\n",
       "</table>\n",
       "</div>"
      ],
      "text/plain": [
       "                 timestamp  value\n",
       "index                            \n",
       "228388 2017-12-15 19:49:31   0.95\n",
       "232856 2018-01-28 11:43:33   3.19\n",
       "225527 2017-11-06 21:50:59   3.59\n",
       "223865 2017-10-21 23:04:26   3.72\n",
       "173333 2016-11-12 21:05:02   3.75"
      ]
     },
     "execution_count": 11,
     "metadata": {},
     "output_type": "execute_result"
    }
   ],
   "source": [
    "df.sort_values('value').head()"
   ]
  },
  {
   "cell_type": "markdown",
   "metadata": {},
   "source": [
    "Again, I have talked to Philipp and the lowest value, 0.95, is clearly an error. Therefore, I will replace it with the median of all solves of this particular day. Yet, the other times are correct, impressive!"
   ]
  },
  {
   "cell_type": "code",
   "execution_count": 12,
   "metadata": {},
   "outputs": [
    {
     "name": "stdout",
     "output_type": "stream",
     "text": [
      "New value: 7.46\n"
     ]
    },
    {
     "data": {
      "text/html": [
       "<div>\n",
       "<style scoped>\n",
       "    .dataframe tbody tr th:only-of-type {\n",
       "        vertical-align: middle;\n",
       "    }\n",
       "\n",
       "    .dataframe tbody tr th {\n",
       "        vertical-align: top;\n",
       "    }\n",
       "\n",
       "    .dataframe thead th {\n",
       "        text-align: right;\n",
       "    }\n",
       "</style>\n",
       "<table border=\"1\" class=\"dataframe\">\n",
       "  <thead>\n",
       "    <tr style=\"text-align: right;\">\n",
       "      <th></th>\n",
       "      <th>timestamp</th>\n",
       "      <th>value</th>\n",
       "    </tr>\n",
       "    <tr>\n",
       "      <th>index</th>\n",
       "      <th></th>\n",
       "      <th></th>\n",
       "    </tr>\n",
       "  </thead>\n",
       "  <tbody>\n",
       "    <tr>\n",
       "      <th>232856</th>\n",
       "      <td>2018-01-28 11:43:33</td>\n",
       "      <td>3.19</td>\n",
       "    </tr>\n",
       "    <tr>\n",
       "      <th>225527</th>\n",
       "      <td>2017-11-06 21:50:59</td>\n",
       "      <td>3.59</td>\n",
       "    </tr>\n",
       "    <tr>\n",
       "      <th>223865</th>\n",
       "      <td>2017-10-21 23:04:26</td>\n",
       "      <td>3.72</td>\n",
       "    </tr>\n",
       "    <tr>\n",
       "      <th>173333</th>\n",
       "      <td>2016-11-12 21:05:02</td>\n",
       "      <td>3.75</td>\n",
       "    </tr>\n",
       "    <tr>\n",
       "      <th>218739</th>\n",
       "      <td>2017-09-07 13:20:10</td>\n",
       "      <td>3.79</td>\n",
       "    </tr>\n",
       "  </tbody>\n",
       "</table>\n",
       "</div>"
      ],
      "text/plain": [
       "                 timestamp  value\n",
       "index                            \n",
       "232856 2018-01-28 11:43:33   3.19\n",
       "225527 2017-11-06 21:50:59   3.59\n",
       "223865 2017-10-21 23:04:26   3.72\n",
       "173333 2016-11-12 21:05:02   3.75\n",
       "218739 2017-09-07 13:20:10   3.79"
      ]
     },
     "execution_count": 12,
     "metadata": {},
     "output_type": "execute_result"
    }
   ],
   "source": [
    "error_index = df[df.value == 0.95].index[0]\n",
    "df.loc[error_index,'value'] = df[df.timestamp.dt.date == datetime.date(2017,12,15)].value.median()\n",
    "print('New value:', df.loc[error_index,'value'])\n",
    "df.sort_values('value').head()"
   ]
  },
  {
   "cell_type": "markdown",
   "metadata": {},
   "source": [
    "Time for some first visualization!"
   ]
  },
  {
   "cell_type": "code",
   "execution_count": 13,
   "metadata": {},
   "outputs": [
    {
     "data": {
      "image/png": "[encoded data removed]",
      "text/plain": [
       "<matplotlib.figure.Figure at 0x94057f0>"
      ]
     },
     "metadata": {},
     "output_type": "display_data"
    }
   ],
   "source": [
    "plt.figure(1, figsize=(15,5))\n",
    "plt.subplot(121)\n",
    "df['value'].hist(bins=50)\n",
    "plt.title('Distribution of times')\n",
    "\n",
    "plt.subplot(122)\n",
    "plt.plot(df['timestamp'], df['value'], '*')\n",
    "plt.xticks(rotation='60')\n",
    "plt.title('Solving times over time')\n",
    "plt.show();"
   ]
  },
  {
   "cell_type": "markdown",
   "metadata": {},
   "source": [
    "As this does not give a good overview, I will look at per-day means instead:"
   ]
  },
  {
   "cell_type": "code",
   "execution_count": 14,
   "metadata": {},
   "outputs": [
    {
     "data": {
      "image/png": "[encoded data removed]",
      "text/plain": [
       "<matplotlib.figure.Figure at 0x3c1ebe0>"
      ]
     },
     "metadata": {},
     "output_type": "display_data"
    }
   ],
   "source": [
    "mean_per_day = df.groupby(df.timestamp.dt.date).mean()\n",
    "\n",
    "plt.figure(1, figsize=(15,5))\n",
    "plt.subplot(121)\n",
    "mean_per_day['value'].hist(bins=50)\n",
    "plt.title('Distribution of per-day means')\n",
    "\n",
    "plt.subplot(122)\n",
    "mean_per_day['value'].plot(style='*')\n",
    "plt.xlabel('')\n",
    "plt.xticks(rotation='60')\n",
    "plt.title('Per-day means over time')\n",
    "plt.show();"
   ]
  },
  {
   "cell_type": "markdown",
   "metadata": {},
   "source": [
    "Again, something appears to be wrong given two massive outliers, so I will take a closer look:"
   ]
  },
  {
   "cell_type": "code",
   "execution_count": 15,
   "metadata": {},
   "outputs": [
    {
     "data": {
      "text/html": [
       "<div>\n",
       "<style scoped>\n",
       "    .dataframe tbody tr th:only-of-type {\n",
       "        vertical-align: middle;\n",
       "    }\n",
       "\n",
       "    .dataframe tbody tr th {\n",
       "        vertical-align: top;\n",
       "    }\n",
       "\n",
       "    .dataframe thead th {\n",
       "        text-align: right;\n",
       "    }\n",
       "</style>\n",
       "<table border=\"1\" class=\"dataframe\">\n",
       "  <thead>\n",
       "    <tr style=\"text-align: right;\">\n",
       "      <th></th>\n",
       "      <th>value</th>\n",
       "    </tr>\n",
       "    <tr>\n",
       "      <th>timestamp</th>\n",
       "      <th></th>\n",
       "    </tr>\n",
       "  </thead>\n",
       "  <tbody>\n",
       "    <tr>\n",
       "      <th>2015-01-12</th>\n",
       "      <td>10.025625</td>\n",
       "    </tr>\n",
       "    <tr>\n",
       "      <th>2015-06-22</th>\n",
       "      <td>10.150000</td>\n",
       "    </tr>\n",
       "    <tr>\n",
       "      <th>2017-11-22</th>\n",
       "      <td>16.482500</td>\n",
       "    </tr>\n",
       "    <tr>\n",
       "      <th>2018-01-20</th>\n",
       "      <td>11.025747</td>\n",
       "    </tr>\n",
       "  </tbody>\n",
       "</table>\n",
       "</div>"
      ],
      "text/plain": [
       "                value\n",
       "timestamp            \n",
       "2015-01-12  10.025625\n",
       "2015-06-22  10.150000\n",
       "2017-11-22  16.482500\n",
       "2018-01-20  11.025747"
      ]
     },
     "execution_count": 15,
     "metadata": {},
     "output_type": "execute_result"
    }
   ],
   "source": [
    "mean_per_day[mean_per_day.value > 10]"
   ]
  },
  {
   "cell_type": "code",
   "execution_count": 16,
   "metadata": {},
   "outputs": [
    {
     "data": {
      "text/html": [
       "<div>\n",
       "<style scoped>\n",
       "    .dataframe tbody tr th:only-of-type {\n",
       "        vertical-align: middle;\n",
       "    }\n",
       "\n",
       "    .dataframe tbody tr th {\n",
       "        vertical-align: top;\n",
       "    }\n",
       "\n",
       "    .dataframe thead th {\n",
       "        text-align: right;\n",
       "    }\n",
       "</style>\n",
       "<table border=\"1\" class=\"dataframe\">\n",
       "  <thead>\n",
       "    <tr style=\"text-align: right;\">\n",
       "      <th></th>\n",
       "      <th>timestamp</th>\n",
       "      <th>value</th>\n",
       "    </tr>\n",
       "    <tr>\n",
       "      <th>index</th>\n",
       "      <th></th>\n",
       "      <th></th>\n",
       "    </tr>\n",
       "  </thead>\n",
       "  <tbody>\n",
       "    <tr>\n",
       "      <th>227064</th>\n",
       "      <td>2017-11-22 20:48:52</td>\n",
       "      <td>14.10</td>\n",
       "    </tr>\n",
       "    <tr>\n",
       "      <th>227065</th>\n",
       "      <td>2017-11-22 20:49:21</td>\n",
       "      <td>16.09</td>\n",
       "    </tr>\n",
       "    <tr>\n",
       "      <th>227066</th>\n",
       "      <td>2017-11-22 21:07:34</td>\n",
       "      <td>15.69</td>\n",
       "    </tr>\n",
       "    <tr>\n",
       "      <th>227067</th>\n",
       "      <td>2017-11-22 21:16:42</td>\n",
       "      <td>20.05</td>\n",
       "    </tr>\n",
       "  </tbody>\n",
       "</table>\n",
       "</div>"
      ],
      "text/plain": [
       "                 timestamp  value\n",
       "index                            \n",
       "227064 2017-11-22 20:48:52  14.10\n",
       "227065 2017-11-22 20:49:21  16.09\n",
       "227066 2017-11-22 21:07:34  15.69\n",
       "227067 2017-11-22 21:16:42  20.05"
      ]
     },
     "execution_count": 16,
     "metadata": {},
     "output_type": "execute_result"
    }
   ],
   "source": [
    "df[df.timestamp.dt.date == datetime.date(2017,11,22)]"
   ]
  },
  {
   "cell_type": "code",
   "execution_count": 17,
   "metadata": {},
   "outputs": [
    {
     "data": {
      "text/html": [
       "<div>\n",
       "<style scoped>\n",
       "    .dataframe tbody tr th:only-of-type {\n",
       "        vertical-align: middle;\n",
       "    }\n",
       "\n",
       "    .dataframe tbody tr th {\n",
       "        vertical-align: top;\n",
       "    }\n",
       "\n",
       "    .dataframe thead th {\n",
       "        text-align: right;\n",
       "    }\n",
       "</style>\n",
       "<table border=\"1\" class=\"dataframe\">\n",
       "  <thead>\n",
       "    <tr style=\"text-align: right;\">\n",
       "      <th></th>\n",
       "      <th>timestamp</th>\n",
       "      <th>value</th>\n",
       "    </tr>\n",
       "    <tr>\n",
       "      <th>index</th>\n",
       "      <th></th>\n",
       "      <th></th>\n",
       "    </tr>\n",
       "  </thead>\n",
       "  <tbody>\n",
       "    <tr>\n",
       "      <th>232003</th>\n",
       "      <td>2018-01-20 09:27:20</td>\n",
       "      <td>13.28</td>\n",
       "    </tr>\n",
       "    <tr>\n",
       "      <th>232045</th>\n",
       "      <td>2018-01-20 11:35:13</td>\n",
       "      <td>13.06</td>\n",
       "    </tr>\n",
       "    <tr>\n",
       "      <th>232046</th>\n",
       "      <td>2018-01-20 11:35:35</td>\n",
       "      <td>17.17</td>\n",
       "    </tr>\n",
       "    <tr>\n",
       "      <th>232047</th>\n",
       "      <td>2018-01-20 11:36:00</td>\n",
       "      <td>16.21</td>\n",
       "    </tr>\n",
       "    <tr>\n",
       "      <th>232048</th>\n",
       "      <td>2018-01-20 11:40:47</td>\n",
       "      <td>8.76</td>\n",
       "    </tr>\n",
       "    <tr>\n",
       "      <th>232049</th>\n",
       "      <td>2018-01-20 11:41:04</td>\n",
       "      <td>9.58</td>\n",
       "    </tr>\n",
       "    <tr>\n",
       "      <th>232050</th>\n",
       "      <td>2018-01-20 11:41:32</td>\n",
       "      <td>6.67</td>\n",
       "    </tr>\n",
       "    <tr>\n",
       "      <th>232089</th>\n",
       "      <td>2018-01-20 12:07:55</td>\n",
       "      <td>7.84</td>\n",
       "    </tr>\n",
       "  </tbody>\n",
       "</table>\n",
       "</div>"
      ],
      "text/plain": [
       "                 timestamp  value\n",
       "index                            \n",
       "232003 2018-01-20 09:27:20  13.28\n",
       "232045 2018-01-20 11:35:13  13.06\n",
       "232046 2018-01-20 11:35:35  17.17\n",
       "232047 2018-01-20 11:36:00  16.21\n",
       "232048 2018-01-20 11:40:47   8.76\n",
       "232049 2018-01-20 11:41:04   9.58\n",
       "232050 2018-01-20 11:41:32   6.67\n",
       "232089 2018-01-20 12:07:55   7.84"
      ]
     },
     "execution_count": 17,
     "metadata": {},
     "output_type": "execute_result"
    }
   ],
   "source": [
    "df[df.timestamp.dt.date == datetime.date(2018,1,20)].iloc[[0,42,43,44,45,46,47,-1],:]"
   ]
  },
  {
   "cell_type": "markdown",
   "metadata": {},
   "source": [
    "Once more, talking to Philipp helped clarifying this. Apparently, he has stored some OneHanded solves (solving a 3x3x3 Cube with only one hand) in his data by mistake. Therefore, I will drop the affected rows from 2017-11-22 and 2018-01-20 (daytime < 11:40:47)."
   ]
  },
  {
   "cell_type": "code",
   "execution_count": 18,
   "metadata": {},
   "outputs": [
    {
     "data": {
      "text/plain": [
       "49"
      ]
     },
     "execution_count": 18,
     "metadata": {},
     "output_type": "execute_result"
    }
   ],
   "source": [
    "# generate error index list\n",
    "error_list = ((df.timestamp.dt.date == datetime.date(2017,11,22))\n",
    "              | ((df.timestamp.dt.date == datetime.date(2018,1,20)) \n",
    "                 & (df.timestamp.dt.time < datetime.time(11,40,47))))\n",
    "# the inverted index list should return 4 + 45 = 49 rows\n",
    "error_list.sum()"
   ]
  },
  {
   "cell_type": "code",
   "execution_count": 19,
   "metadata": {},
   "outputs": [
    {
     "name": "stdout",
     "output_type": "stream",
     "text": [
      "<class 'pandas.core.frame.DataFrame'>\n",
      "RangeIndex: 235114 entries, 0 to 235113\n",
      "Data columns (total 2 columns):\n",
      "timestamp    235114 non-null datetime64[ns]\n",
      "value        235114 non-null float64\n",
      "dtypes: datetime64[ns](1), float64(1)\n",
      "memory usage: 3.6 MB\n"
     ]
    }
   ],
   "source": [
    "index_list = (~error_list)\n",
    "df = df[index_list]\n",
    "df = df.reset_index(drop=True)\n",
    "df.index.name = 'index'\n",
    "df.info()"
   ]
  },
  {
   "cell_type": "markdown",
   "metadata": {},
   "source": [
    "Alright! At last, let's once more check the per-day means over time for the fully cleaned dataframe."
   ]
  },
  {
   "cell_type": "code",
   "execution_count": 20,
   "metadata": {},
   "outputs": [
    {
     "data": {
      "image/png": "[encoded data removed]",
      "text/plain": [
       "<matplotlib.figure.Figure at 0x97f3748>"
      ]
     },
     "metadata": {},
     "output_type": "display_data"
    }
   ],
   "source": [
    "mean_per_day = df.groupby(df.timestamp.dt.date).mean()\n",
    "\n",
    "plt.figure(1, figsize=(15,5))\n",
    "plt.subplot(121)\n",
    "mean_per_day['value'].hist(bins=50)\n",
    "plt.title('Distribution of per-day means')\n",
    "\n",
    "plt.subplot(122)\n",
    "mean_per_day['value'].plot(style='*')\n",
    "plt.xlabel('')\n",
    "plt.xticks(rotation='60')\n",
    "plt.title('Per-day means over time')\n",
    "plt.show();"
   ]
  },
  {
   "cell_type": "markdown",
   "metadata": {},
   "source": [
    "Perfect! Finally, save the cleaned practice data for future use."
   ]
  },
  {
   "cell_type": "code",
   "execution_count": 21,
   "metadata": {},
   "outputs": [
    {
     "name": "stdout",
     "output_type": "stream",
     "text": [
      "['clean_data/practice_data.csv']\n"
     ]
    }
   ],
   "source": [
    "df.to_csv('clean_data/practice_data.csv')\n",
    "output = glob.glob('clean_data/practice_data.csv')\n",
    "print(output)"
   ]
  },
  {
   "cell_type": "markdown",
   "metadata": {},
   "source": [
    "## Official results\n",
    "\n",
    "After being done with cleaning Philipp's practice data, I will now fetch his official results from the 2018-02-26's WCA export. First, I import the results table from the WCA export. This gives us a very large dataframe with all results from official WCA competitions. "
   ]
  },
  {
   "cell_type": "code",
   "execution_count": 22,
   "metadata": {},
   "outputs": [
    {
     "data": {
      "text/html": [
       "<div>\n",
       "<style scoped>\n",
       "    .dataframe tbody tr th:only-of-type {\n",
       "        vertical-align: middle;\n",
       "    }\n",
       "\n",
       "    .dataframe tbody tr th {\n",
       "        vertical-align: top;\n",
       "    }\n",
       "\n",
       "    .dataframe thead th {\n",
       "        text-align: right;\n",
       "    }\n",
       "</style>\n",
       "<table border=\"1\" class=\"dataframe\">\n",
       "  <thead>\n",
       "    <tr style=\"text-align: right;\">\n",
       "      <th></th>\n",
       "      <th>competitionId</th>\n",
       "      <th>eventId</th>\n",
       "      <th>roundTypeId</th>\n",
       "      <th>pos</th>\n",
       "      <th>best</th>\n",
       "      <th>average</th>\n",
       "      <th>personName</th>\n",
       "      <th>personId</th>\n",
       "      <th>personCountryId</th>\n",
       "      <th>formatId</th>\n",
       "      <th>value1</th>\n",
       "      <th>value2</th>\n",
       "      <th>value3</th>\n",
       "      <th>value4</th>\n",
       "      <th>value5</th>\n",
       "      <th>regionalSingleRecord</th>\n",
       "      <th>regionalAverageRecord</th>\n",
       "    </tr>\n",
       "  </thead>\n",
       "  <tbody>\n",
       "    <tr>\n",
       "      <th>0</th>\n",
       "      <td>LyonOpen2007</td>\n",
       "      <td>333</td>\n",
       "      <td>1</td>\n",
       "      <td>15</td>\n",
       "      <td>1968</td>\n",
       "      <td>2128</td>\n",
       "      <td>Etienne Amany</td>\n",
       "      <td>2007AMAN01</td>\n",
       "      <td>Cote d_Ivoire</td>\n",
       "      <td>a</td>\n",
       "      <td>1968</td>\n",
       "      <td>2203</td>\n",
       "      <td>2138</td>\n",
       "      <td>2139</td>\n",
       "      <td>2108</td>\n",
       "      <td>AfR</td>\n",
       "      <td>AfR</td>\n",
       "    </tr>\n",
       "    <tr>\n",
       "      <th>1</th>\n",
       "      <td>LyonOpen2007</td>\n",
       "      <td>333</td>\n",
       "      <td>1</td>\n",
       "      <td>16</td>\n",
       "      <td>1731</td>\n",
       "      <td>2140</td>\n",
       "      <td>Thomas Rouault</td>\n",
       "      <td>2004ROUA01</td>\n",
       "      <td>France</td>\n",
       "      <td>a</td>\n",
       "      <td>2222</td>\n",
       "      <td>2153</td>\n",
       "      <td>1731</td>\n",
       "      <td>2334</td>\n",
       "      <td>2046</td>\n",
       "      <td>NaN</td>\n",
       "      <td>NaN</td>\n",
       "    </tr>\n",
       "    <tr>\n",
       "      <th>2</th>\n",
       "      <td>LyonOpen2007</td>\n",
       "      <td>333</td>\n",
       "      <td>1</td>\n",
       "      <td>17</td>\n",
       "      <td>2305</td>\n",
       "      <td>2637</td>\n",
       "      <td>Antoine Simon-Chautemps</td>\n",
       "      <td>2005SIMO01</td>\n",
       "      <td>France</td>\n",
       "      <td>a</td>\n",
       "      <td>3430</td>\n",
       "      <td>2581</td>\n",
       "      <td>2540</td>\n",
       "      <td>2789</td>\n",
       "      <td>2305</td>\n",
       "      <td>NaN</td>\n",
       "      <td>NaN</td>\n",
       "    </tr>\n",
       "    <tr>\n",
       "      <th>3</th>\n",
       "      <td>LyonOpen2007</td>\n",
       "      <td>333</td>\n",
       "      <td>1</td>\n",
       "      <td>18</td>\n",
       "      <td>2452</td>\n",
       "      <td>2637</td>\n",
       "      <td>Irène Mallordy</td>\n",
       "      <td>2007MALL01</td>\n",
       "      <td>France</td>\n",
       "      <td>a</td>\n",
       "      <td>2715</td>\n",
       "      <td>2452</td>\n",
       "      <td>2868</td>\n",
       "      <td>2632</td>\n",
       "      <td>2564</td>\n",
       "      <td>NaN</td>\n",
       "      <td>NaN</td>\n",
       "    </tr>\n",
       "    <tr>\n",
       "      <th>4</th>\n",
       "      <td>LyonOpen2007</td>\n",
       "      <td>333</td>\n",
       "      <td>1</td>\n",
       "      <td>19</td>\n",
       "      <td>2677</td>\n",
       "      <td>2906</td>\n",
       "      <td>Marlène Desmaisons</td>\n",
       "      <td>2007DESM01</td>\n",
       "      <td>France</td>\n",
       "      <td>a</td>\n",
       "      <td>2921</td>\n",
       "      <td>3184</td>\n",
       "      <td>2891</td>\n",
       "      <td>2677</td>\n",
       "      <td>2907</td>\n",
       "      <td>NaN</td>\n",
       "      <td>NaN</td>\n",
       "    </tr>\n",
       "  </tbody>\n",
       "</table>\n",
       "</div>"
      ],
      "text/plain": [
       "  competitionId eventId roundTypeId  pos  best  average  \\\n",
       "0  LyonOpen2007     333           1   15  1968     2128   \n",
       "1  LyonOpen2007     333           1   16  1731     2140   \n",
       "2  LyonOpen2007     333           1   17  2305     2637   \n",
       "3  LyonOpen2007     333           1   18  2452     2637   \n",
       "4  LyonOpen2007     333           1   19  2677     2906   \n",
       "\n",
       "                personName    personId personCountryId formatId  value1  \\\n",
       "0            Etienne Amany  2007AMAN01   Cote d_Ivoire        a    1968   \n",
       "1           Thomas Rouault  2004ROUA01          France        a    2222   \n",
       "2  Antoine Simon-Chautemps  2005SIMO01          France        a    3430   \n",
       "3           Irène Mallordy  2007MALL01          France        a    2715   \n",
       "4       Marlène Desmaisons  2007DESM01          France        a    2921   \n",
       "\n",
       "   value2  value3  value4  value5 regionalSingleRecord regionalAverageRecord  \n",
       "0    2203    2138    2139    2108                  AfR                   AfR  \n",
       "1    2153    1731    2334    2046                  NaN                   NaN  \n",
       "2    2581    2540    2789    2305                  NaN                   NaN  \n",
       "3    2452    2868    2632    2564                  NaN                   NaN  \n",
       "4    3184    2891    2677    2907                  NaN                   NaN  "
      ]
     },
     "execution_count": 22,
     "metadata": {},
     "output_type": "execute_result"
    }
   ],
   "source": [
    "results = pd.read_csv('db_export/WCA_export_Results.tsv', delimiter='\\t')\n",
    "results.head()"
   ]
  },
  {
   "cell_type": "markdown",
   "metadata": {},
   "source": [
    "However, I only want those of Philipp and only those from the 3x3x3 event. "
   ]
  },
  {
   "cell_type": "code",
   "execution_count": 23,
   "metadata": {},
   "outputs": [
    {
     "data": {
      "text/html": [
       "<div>\n",
       "<style scoped>\n",
       "    .dataframe tbody tr th:only-of-type {\n",
       "        vertical-align: middle;\n",
       "    }\n",
       "\n",
       "    .dataframe tbody tr th {\n",
       "        vertical-align: top;\n",
       "    }\n",
       "\n",
       "    .dataframe thead th {\n",
       "        text-align: right;\n",
       "    }\n",
       "</style>\n",
       "<table border=\"1\" class=\"dataframe\">\n",
       "  <thead>\n",
       "    <tr style=\"text-align: right;\">\n",
       "      <th></th>\n",
       "      <th>competitionId</th>\n",
       "      <th>eventId</th>\n",
       "      <th>roundTypeId</th>\n",
       "      <th>pos</th>\n",
       "      <th>best</th>\n",
       "      <th>average</th>\n",
       "      <th>personName</th>\n",
       "      <th>personId</th>\n",
       "      <th>personCountryId</th>\n",
       "      <th>formatId</th>\n",
       "      <th>value1</th>\n",
       "      <th>value2</th>\n",
       "      <th>value3</th>\n",
       "      <th>value4</th>\n",
       "      <th>value5</th>\n",
       "      <th>regionalSingleRecord</th>\n",
       "      <th>regionalAverageRecord</th>\n",
       "    </tr>\n",
       "  </thead>\n",
       "  <tbody>\n",
       "    <tr>\n",
       "      <th>106819</th>\n",
       "      <td>CologneOpen2010</td>\n",
       "      <td>333</td>\n",
       "      <td>1</td>\n",
       "      <td>23</td>\n",
       "      <td>1278</td>\n",
       "      <td>1850</td>\n",
       "      <td>Philipp Weyer</td>\n",
       "      <td>2010WEYE01</td>\n",
       "      <td>Germany</td>\n",
       "      <td>a</td>\n",
       "      <td>2022</td>\n",
       "      <td>2277</td>\n",
       "      <td>1278</td>\n",
       "      <td>1447</td>\n",
       "      <td>2080</td>\n",
       "      <td>NaN</td>\n",
       "      <td>NaN</td>\n",
       "    </tr>\n",
       "    <tr>\n",
       "      <th>106950</th>\n",
       "      <td>CologneOpen2010</td>\n",
       "      <td>333</td>\n",
       "      <td>2</td>\n",
       "      <td>24</td>\n",
       "      <td>1591</td>\n",
       "      <td>1798</td>\n",
       "      <td>Philipp Weyer</td>\n",
       "      <td>2010WEYE01</td>\n",
       "      <td>Germany</td>\n",
       "      <td>a</td>\n",
       "      <td>2065</td>\n",
       "      <td>1591</td>\n",
       "      <td>1768</td>\n",
       "      <td>1859</td>\n",
       "      <td>1766</td>\n",
       "      <td>NaN</td>\n",
       "      <td>NaN</td>\n",
       "    </tr>\n",
       "    <tr>\n",
       "      <th>119472</th>\n",
       "      <td>EastGermanOpen2010</td>\n",
       "      <td>333</td>\n",
       "      <td>1</td>\n",
       "      <td>14</td>\n",
       "      <td>1331</td>\n",
       "      <td>1596</td>\n",
       "      <td>Philipp Weyer</td>\n",
       "      <td>2010WEYE01</td>\n",
       "      <td>Germany</td>\n",
       "      <td>a</td>\n",
       "      <td>1743</td>\n",
       "      <td>1738</td>\n",
       "      <td>1538</td>\n",
       "      <td>1331</td>\n",
       "      <td>1511</td>\n",
       "      <td>NaN</td>\n",
       "      <td>NaN</td>\n",
       "    </tr>\n",
       "    <tr>\n",
       "      <th>119530</th>\n",
       "      <td>EastGermanOpen2010</td>\n",
       "      <td>333</td>\n",
       "      <td>2</td>\n",
       "      <td>15</td>\n",
       "      <td>1438</td>\n",
       "      <td>1664</td>\n",
       "      <td>Philipp Weyer</td>\n",
       "      <td>2010WEYE01</td>\n",
       "      <td>Germany</td>\n",
       "      <td>a</td>\n",
       "      <td>1840</td>\n",
       "      <td>1806</td>\n",
       "      <td>1716</td>\n",
       "      <td>1471</td>\n",
       "      <td>1438</td>\n",
       "      <td>NaN</td>\n",
       "      <td>NaN</td>\n",
       "    </tr>\n",
       "    <tr>\n",
       "      <th>124272</th>\n",
       "      <td>Germany2010</td>\n",
       "      <td>333</td>\n",
       "      <td>1</td>\n",
       "      <td>25</td>\n",
       "      <td>1484</td>\n",
       "      <td>1573</td>\n",
       "      <td>Philipp Weyer</td>\n",
       "      <td>2010WEYE01</td>\n",
       "      <td>Germany</td>\n",
       "      <td>a</td>\n",
       "      <td>1593</td>\n",
       "      <td>1780</td>\n",
       "      <td>1627</td>\n",
       "      <td>1500</td>\n",
       "      <td>1484</td>\n",
       "      <td>NaN</td>\n",
       "      <td>NaN</td>\n",
       "    </tr>\n",
       "  </tbody>\n",
       "</table>\n",
       "</div>"
      ],
      "text/plain": [
       "             competitionId eventId roundTypeId  pos  best  average  \\\n",
       "106819     CologneOpen2010     333           1   23  1278     1850   \n",
       "106950     CologneOpen2010     333           2   24  1591     1798   \n",
       "119472  EastGermanOpen2010     333           1   14  1331     1596   \n",
       "119530  EastGermanOpen2010     333           2   15  1438     1664   \n",
       "124272         Germany2010     333           1   25  1484     1573   \n",
       "\n",
       "           personName    personId personCountryId formatId  value1  value2  \\\n",
       "106819  Philipp Weyer  2010WEYE01         Germany        a    2022    2277   \n",
       "106950  Philipp Weyer  2010WEYE01         Germany        a    2065    1591   \n",
       "119472  Philipp Weyer  2010WEYE01         Germany        a    1743    1738   \n",
       "119530  Philipp Weyer  2010WEYE01         Germany        a    1840    1806   \n",
       "124272  Philipp Weyer  2010WEYE01         Germany        a    1593    1780   \n",
       "\n",
       "        value3  value4  value5 regionalSingleRecord regionalAverageRecord  \n",
       "106819    1278    1447    2080                  NaN                   NaN  \n",
       "106950    1768    1859    1766                  NaN                   NaN  \n",
       "119472    1538    1331    1511                  NaN                   NaN  \n",
       "119530    1716    1471    1438                  NaN                   NaN  \n",
       "124272    1627    1500    1484                  NaN                   NaN  "
      ]
     },
     "execution_count": 23,
     "metadata": {},
     "output_type": "execute_result"
    }
   ],
   "source": [
    "results = results[(results.eventId == '333') & (results.personId == '2010WEYE01')]\n",
    "results.head()"
   ]
  },
  {
   "cell_type": "markdown",
   "metadata": {},
   "source": [
    "Now, a lot of not needed columns can already be dropped for a better oversight. In particular, the column containing a round's average is not needed, since it only contains data that is directly derived from the individual times of a round."
   ]
  },
  {
   "cell_type": "code",
   "execution_count": 24,
   "metadata": {},
   "outputs": [
    {
     "data": {
      "text/html": [
       "<div>\n",
       "<style scoped>\n",
       "    .dataframe tbody tr th:only-of-type {\n",
       "        vertical-align: middle;\n",
       "    }\n",
       "\n",
       "    .dataframe tbody tr th {\n",
       "        vertical-align: top;\n",
       "    }\n",
       "\n",
       "    .dataframe thead th {\n",
       "        text-align: right;\n",
       "    }\n",
       "</style>\n",
       "<table border=\"1\" class=\"dataframe\">\n",
       "  <thead>\n",
       "    <tr style=\"text-align: right;\">\n",
       "      <th></th>\n",
       "      <th>competitionId</th>\n",
       "      <th>roundTypeId</th>\n",
       "      <th>value1</th>\n",
       "      <th>value2</th>\n",
       "      <th>value3</th>\n",
       "      <th>value4</th>\n",
       "      <th>value5</th>\n",
       "    </tr>\n",
       "  </thead>\n",
       "  <tbody>\n",
       "    <tr>\n",
       "      <th>106819</th>\n",
       "      <td>CologneOpen2010</td>\n",
       "      <td>1</td>\n",
       "      <td>2022</td>\n",
       "      <td>2277</td>\n",
       "      <td>1278</td>\n",
       "      <td>1447</td>\n",
       "      <td>2080</td>\n",
       "    </tr>\n",
       "    <tr>\n",
       "      <th>106950</th>\n",
       "      <td>CologneOpen2010</td>\n",
       "      <td>2</td>\n",
       "      <td>2065</td>\n",
       "      <td>1591</td>\n",
       "      <td>1768</td>\n",
       "      <td>1859</td>\n",
       "      <td>1766</td>\n",
       "    </tr>\n",
       "    <tr>\n",
       "      <th>119472</th>\n",
       "      <td>EastGermanOpen2010</td>\n",
       "      <td>1</td>\n",
       "      <td>1743</td>\n",
       "      <td>1738</td>\n",
       "      <td>1538</td>\n",
       "      <td>1331</td>\n",
       "      <td>1511</td>\n",
       "    </tr>\n",
       "    <tr>\n",
       "      <th>119530</th>\n",
       "      <td>EastGermanOpen2010</td>\n",
       "      <td>2</td>\n",
       "      <td>1840</td>\n",
       "      <td>1806</td>\n",
       "      <td>1716</td>\n",
       "      <td>1471</td>\n",
       "      <td>1438</td>\n",
       "    </tr>\n",
       "    <tr>\n",
       "      <th>124272</th>\n",
       "      <td>Germany2010</td>\n",
       "      <td>1</td>\n",
       "      <td>1593</td>\n",
       "      <td>1780</td>\n",
       "      <td>1627</td>\n",
       "      <td>1500</td>\n",
       "      <td>1484</td>\n",
       "    </tr>\n",
       "  </tbody>\n",
       "</table>\n",
       "</div>"
      ],
      "text/plain": [
       "             competitionId roundTypeId  value1  value2  value3  value4  value5\n",
       "106819     CologneOpen2010           1    2022    2277    1278    1447    2080\n",
       "106950     CologneOpen2010           2    2065    1591    1768    1859    1766\n",
       "119472  EastGermanOpen2010           1    1743    1738    1538    1331    1511\n",
       "119530  EastGermanOpen2010           2    1840    1806    1716    1471    1438\n",
       "124272         Germany2010           1    1593    1780    1627    1500    1484"
      ]
     },
     "execution_count": 24,
     "metadata": {},
     "output_type": "execute_result"
    }
   ],
   "source": [
    "value_columns = ['value' + str(i+1) for i in range(5)]\n",
    "useful_columns = ['competitionId','roundTypeId'] + value_columns\n",
    "results = results[useful_columns]\n",
    "results.head()"
   ]
  },
  {
   "cell_type": "markdown",
   "metadata": {},
   "source": [
    "It should already be noted that all the values are stored in centiseconds in the WCA database, but I will deal with this later.\n",
    "\n",
    "Unfortunately, these official results do not come with any timestamps, in contrast to Philipp's practice data. But it is possible to obtain a date by matching the results with the competitions' dates, which can be found in the Competitions table of the WCA export."
   ]
  },
  {
   "cell_type": "code",
   "execution_count": 25,
   "metadata": {},
   "outputs": [
    {
     "data": {
      "text/html": [
       "<div>\n",
       "<style scoped>\n",
       "    .dataframe tbody tr th:only-of-type {\n",
       "        vertical-align: middle;\n",
       "    }\n",
       "\n",
       "    .dataframe tbody tr th {\n",
       "        vertical-align: top;\n",
       "    }\n",
       "\n",
       "    .dataframe thead th {\n",
       "        text-align: right;\n",
       "    }\n",
       "</style>\n",
       "<table border=\"1\" class=\"dataframe\">\n",
       "  <thead>\n",
       "    <tr style=\"text-align: right;\">\n",
       "      <th></th>\n",
       "      <th>id</th>\n",
       "      <th>year</th>\n",
       "      <th>month</th>\n",
       "      <th>day</th>\n",
       "    </tr>\n",
       "  </thead>\n",
       "  <tbody>\n",
       "    <tr>\n",
       "      <th>0</th>\n",
       "      <td>12SidesofSilesia2018</td>\n",
       "      <td>2018</td>\n",
       "      <td>3</td>\n",
       "      <td>3</td>\n",
       "    </tr>\n",
       "    <tr>\n",
       "      <th>1</th>\n",
       "      <td>150thCubeMeetinginBrest2017</td>\n",
       "      <td>2017</td>\n",
       "      <td>7</td>\n",
       "      <td>22</td>\n",
       "    </tr>\n",
       "    <tr>\n",
       "      <th>2</th>\n",
       "      <td>1AVG2013</td>\n",
       "      <td>2013</td>\n",
       "      <td>4</td>\n",
       "      <td>1</td>\n",
       "    </tr>\n",
       "    <tr>\n",
       "      <th>3</th>\n",
       "      <td>1BodyCubing2017</td>\n",
       "      <td>2017</td>\n",
       "      <td>6</td>\n",
       "      <td>3</td>\n",
       "    </tr>\n",
       "    <tr>\n",
       "      <th>4</th>\n",
       "      <td>2AVG2014</td>\n",
       "      <td>2014</td>\n",
       "      <td>2</td>\n",
       "      <td>2</td>\n",
       "    </tr>\n",
       "  </tbody>\n",
       "</table>\n",
       "</div>"
      ],
      "text/plain": [
       "                            id  year  month  day\n",
       "0         12SidesofSilesia2018  2018      3    3\n",
       "1  150thCubeMeetinginBrest2017  2017      7   22\n",
       "2                     1AVG2013  2013      4    1\n",
       "3              1BodyCubing2017  2017      6    3\n",
       "4                     2AVG2014  2014      2    2"
      ]
     },
     "execution_count": 25,
     "metadata": {},
     "output_type": "execute_result"
    }
   ],
   "source": [
    "# Fetching competition data\n",
    "competition_data = pd.read_csv('db_export/WCA_export_Competitions.tsv', delimiter='\\t', usecols=['id','year','month','day'])\n",
    "competition_data.head()"
   ]
  },
  {
   "cell_type": "markdown",
   "metadata": {},
   "source": [
    "For simplicity, I will use the first day of each competition. I first form a date out the three separate year, month, day columns, then I can merge this data with Philipp's official results."
   ]
  },
  {
   "cell_type": "code",
   "execution_count": 26,
   "metadata": {},
   "outputs": [
    {
     "data": {
      "text/html": [
       "<div>\n",
       "<style scoped>\n",
       "    .dataframe tbody tr th:only-of-type {\n",
       "        vertical-align: middle;\n",
       "    }\n",
       "\n",
       "    .dataframe tbody tr th {\n",
       "        vertical-align: top;\n",
       "    }\n",
       "\n",
       "    .dataframe thead th {\n",
       "        text-align: right;\n",
       "    }\n",
       "</style>\n",
       "<table border=\"1\" class=\"dataframe\">\n",
       "  <thead>\n",
       "    <tr style=\"text-align: right;\">\n",
       "      <th></th>\n",
       "      <th>date</th>\n",
       "      <th>competitionId</th>\n",
       "      <th>roundTypeId</th>\n",
       "      <th>value1</th>\n",
       "      <th>value2</th>\n",
       "      <th>value3</th>\n",
       "      <th>value4</th>\n",
       "      <th>value5</th>\n",
       "    </tr>\n",
       "  </thead>\n",
       "  <tbody>\n",
       "    <tr>\n",
       "      <th>0</th>\n",
       "      <td>2010-06-12</td>\n",
       "      <td>CologneOpen2010</td>\n",
       "      <td>1</td>\n",
       "      <td>2022</td>\n",
       "      <td>2277</td>\n",
       "      <td>1278</td>\n",
       "      <td>1447</td>\n",
       "      <td>2080</td>\n",
       "    </tr>\n",
       "    <tr>\n",
       "      <th>1</th>\n",
       "      <td>2010-06-12</td>\n",
       "      <td>CologneOpen2010</td>\n",
       "      <td>2</td>\n",
       "      <td>2065</td>\n",
       "      <td>1591</td>\n",
       "      <td>1768</td>\n",
       "      <td>1859</td>\n",
       "      <td>1766</td>\n",
       "    </tr>\n",
       "    <tr>\n",
       "      <th>2</th>\n",
       "      <td>2010-08-14</td>\n",
       "      <td>EastGermanOpen2010</td>\n",
       "      <td>1</td>\n",
       "      <td>1743</td>\n",
       "      <td>1738</td>\n",
       "      <td>1538</td>\n",
       "      <td>1331</td>\n",
       "      <td>1511</td>\n",
       "    </tr>\n",
       "    <tr>\n",
       "      <th>3</th>\n",
       "      <td>2010-08-14</td>\n",
       "      <td>EastGermanOpen2010</td>\n",
       "      <td>2</td>\n",
       "      <td>1840</td>\n",
       "      <td>1806</td>\n",
       "      <td>1716</td>\n",
       "      <td>1471</td>\n",
       "      <td>1438</td>\n",
       "    </tr>\n",
       "    <tr>\n",
       "      <th>4</th>\n",
       "      <td>2010-09-11</td>\n",
       "      <td>Germany2010</td>\n",
       "      <td>1</td>\n",
       "      <td>1593</td>\n",
       "      <td>1780</td>\n",
       "      <td>1627</td>\n",
       "      <td>1500</td>\n",
       "      <td>1484</td>\n",
       "    </tr>\n",
       "  </tbody>\n",
       "</table>\n",
       "</div>"
      ],
      "text/plain": [
       "        date       competitionId roundTypeId  value1  value2  value3  value4  \\\n",
       "0 2010-06-12     CologneOpen2010           1    2022    2277    1278    1447   \n",
       "1 2010-06-12     CologneOpen2010           2    2065    1591    1768    1859   \n",
       "2 2010-08-14  EastGermanOpen2010           1    1743    1738    1538    1331   \n",
       "3 2010-08-14  EastGermanOpen2010           2    1840    1806    1716    1471   \n",
       "4 2010-09-11         Germany2010           1    1593    1780    1627    1500   \n",
       "\n",
       "   value5  \n",
       "0    2080  \n",
       "1    1766  \n",
       "2    1511  \n",
       "3    1438  \n",
       "4    1484  "
      ]
     },
     "execution_count": 26,
     "metadata": {},
     "output_type": "execute_result"
    }
   ],
   "source": [
    "def get_start_date(row):\n",
    "    year, month, day = row['year'], row['month'], row['day']\n",
    "    return pd.to_datetime(datetime.date(year,month,day).strftime('%Y-%m-%d'))\n",
    "\n",
    "competition_data['date'] = competition_data.apply(get_start_date, axis=1)\n",
    "\n",
    "dfo = results.merge(competition_data[['id','date']], how='inner', left_on='competitionId', right_on='id')\n",
    "dfo = dfo[['date','competitionId','roundTypeId'] + value_columns]\n",
    "\n",
    "dfo.head()"
   ]
  },
  {
   "cell_type": "markdown",
   "metadata": {},
   "source": [
    "Now, let's have a look at the data."
   ]
  },
  {
   "cell_type": "code",
   "execution_count": 27,
   "metadata": {},
   "outputs": [
    {
     "data": {
      "text/html": [
       "<div>\n",
       "<style scoped>\n",
       "    .dataframe tbody tr th:only-of-type {\n",
       "        vertical-align: middle;\n",
       "    }\n",
       "\n",
       "    .dataframe tbody tr th {\n",
       "        vertical-align: top;\n",
       "    }\n",
       "\n",
       "    .dataframe thead th {\n",
       "        text-align: right;\n",
       "    }\n",
       "</style>\n",
       "<table border=\"1\" class=\"dataframe\">\n",
       "  <thead>\n",
       "    <tr style=\"text-align: right;\">\n",
       "      <th></th>\n",
       "      <th>value1</th>\n",
       "      <th>value2</th>\n",
       "      <th>value3</th>\n",
       "      <th>value4</th>\n",
       "      <th>value5</th>\n",
       "    </tr>\n",
       "  </thead>\n",
       "  <tbody>\n",
       "    <tr>\n",
       "      <th>count</th>\n",
       "      <td>180.000000</td>\n",
       "      <td>180.000000</td>\n",
       "      <td>180.000000</td>\n",
       "      <td>180.000000</td>\n",
       "      <td>180.000000</td>\n",
       "    </tr>\n",
       "    <tr>\n",
       "      <th>mean</th>\n",
       "      <td>910.988889</td>\n",
       "      <td>905.116667</td>\n",
       "      <td>917.477778</td>\n",
       "      <td>923.577778</td>\n",
       "      <td>928.183333</td>\n",
       "    </tr>\n",
       "    <tr>\n",
       "      <th>std</th>\n",
       "      <td>266.486198</td>\n",
       "      <td>257.811335</td>\n",
       "      <td>238.216498</td>\n",
       "      <td>253.374212</td>\n",
       "      <td>254.712840</td>\n",
       "    </tr>\n",
       "    <tr>\n",
       "      <th>min</th>\n",
       "      <td>-1.000000</td>\n",
       "      <td>-1.000000</td>\n",
       "      <td>562.000000</td>\n",
       "      <td>-1.000000</td>\n",
       "      <td>-1.000000</td>\n",
       "    </tr>\n",
       "    <tr>\n",
       "      <th>25%</th>\n",
       "      <td>746.250000</td>\n",
       "      <td>737.250000</td>\n",
       "      <td>746.250000</td>\n",
       "      <td>755.000000</td>\n",
       "      <td>766.000000</td>\n",
       "    </tr>\n",
       "    <tr>\n",
       "      <th>50%</th>\n",
       "      <td>834.500000</td>\n",
       "      <td>836.000000</td>\n",
       "      <td>853.000000</td>\n",
       "      <td>868.000000</td>\n",
       "      <td>858.500000</td>\n",
       "    </tr>\n",
       "    <tr>\n",
       "      <th>75%</th>\n",
       "      <td>973.500000</td>\n",
       "      <td>1028.500000</td>\n",
       "      <td>1012.500000</td>\n",
       "      <td>1017.500000</td>\n",
       "      <td>1068.250000</td>\n",
       "    </tr>\n",
       "    <tr>\n",
       "      <th>max</th>\n",
       "      <td>2065.000000</td>\n",
       "      <td>2277.000000</td>\n",
       "      <td>1941.000000</td>\n",
       "      <td>1993.000000</td>\n",
       "      <td>2080.000000</td>\n",
       "    </tr>\n",
       "  </tbody>\n",
       "</table>\n",
       "</div>"
      ],
      "text/plain": [
       "            value1       value2       value3       value4       value5\n",
       "count   180.000000   180.000000   180.000000   180.000000   180.000000\n",
       "mean    910.988889   905.116667   917.477778   923.577778   928.183333\n",
       "std     266.486198   257.811335   238.216498   253.374212   254.712840\n",
       "min      -1.000000    -1.000000   562.000000    -1.000000    -1.000000\n",
       "25%     746.250000   737.250000   746.250000   755.000000   766.000000\n",
       "50%     834.500000   836.000000   853.000000   868.000000   858.500000\n",
       "75%     973.500000  1028.500000  1012.500000  1017.500000  1068.250000\n",
       "max    2065.000000  2277.000000  1941.000000  1993.000000  2080.000000"
      ]
     },
     "execution_count": 27,
     "metadata": {},
     "output_type": "execute_result"
    }
   ],
   "source": [
    "dfo.describe()"
   ]
  },
  {
   "cell_type": "markdown",
   "metadata": {},
   "source": [
    "It can be seen that some value columns have a minimum value of -1. This is due to the fact that failed solving attempts, so-called DNFs (\"Did Not Solve\") are encoded by -1 in the WCA database. Let's look at this in detail."
   ]
  },
  {
   "cell_type": "code",
   "execution_count": 28,
   "metadata": {},
   "outputs": [
    {
     "data": {
      "text/html": [
       "<div>\n",
       "<style scoped>\n",
       "    .dataframe tbody tr th:only-of-type {\n",
       "        vertical-align: middle;\n",
       "    }\n",
       "\n",
       "    .dataframe tbody tr th {\n",
       "        vertical-align: top;\n",
       "    }\n",
       "\n",
       "    .dataframe thead th {\n",
       "        text-align: right;\n",
       "    }\n",
       "</style>\n",
       "<table border=\"1\" class=\"dataframe\">\n",
       "  <thead>\n",
       "    <tr style=\"text-align: right;\">\n",
       "      <th></th>\n",
       "      <th>date</th>\n",
       "      <th>competitionId</th>\n",
       "      <th>roundTypeId</th>\n",
       "      <th>value1</th>\n",
       "      <th>value2</th>\n",
       "      <th>value3</th>\n",
       "      <th>value4</th>\n",
       "      <th>value5</th>\n",
       "    </tr>\n",
       "  </thead>\n",
       "  <tbody>\n",
       "    <tr>\n",
       "      <th>9</th>\n",
       "      <td>2011-01-14</td>\n",
       "      <td>AachenOpen2011</td>\n",
       "      <td>1</td>\n",
       "      <td>1133</td>\n",
       "      <td>1483</td>\n",
       "      <td>1115</td>\n",
       "      <td>-1</td>\n",
       "      <td>1218</td>\n",
       "    </tr>\n",
       "    <tr>\n",
       "      <th>15</th>\n",
       "      <td>2011-04-09</td>\n",
       "      <td>GermanOpen2011</td>\n",
       "      <td>2</td>\n",
       "      <td>-1</td>\n",
       "      <td>1486</td>\n",
       "      <td>938</td>\n",
       "      <td>1030</td>\n",
       "      <td>1193</td>\n",
       "    </tr>\n",
       "    <tr>\n",
       "      <th>20</th>\n",
       "      <td>2011-05-28</td>\n",
       "      <td>GHSIngenhovenparkOpen2011</td>\n",
       "      <td>f</td>\n",
       "      <td>831</td>\n",
       "      <td>-1</td>\n",
       "      <td>1133</td>\n",
       "      <td>1231</td>\n",
       "      <td>1294</td>\n",
       "    </tr>\n",
       "    <tr>\n",
       "      <th>43</th>\n",
       "      <td>2012-06-23</td>\n",
       "      <td>AachenSummer2012</td>\n",
       "      <td>f</td>\n",
       "      <td>1305</td>\n",
       "      <td>1125</td>\n",
       "      <td>1146</td>\n",
       "      <td>1628</td>\n",
       "      <td>-1</td>\n",
       "    </tr>\n",
       "    <tr>\n",
       "      <th>71</th>\n",
       "      <td>2014-04-18</td>\n",
       "      <td>VelbertEasterOpen2014</td>\n",
       "      <td>1</td>\n",
       "      <td>969</td>\n",
       "      <td>771</td>\n",
       "      <td>783</td>\n",
       "      <td>769</td>\n",
       "      <td>-1</td>\n",
       "    </tr>\n",
       "  </tbody>\n",
       "</table>\n",
       "</div>"
      ],
      "text/plain": [
       "         date              competitionId roundTypeId  value1  value2  value3  \\\n",
       "9  2011-01-14             AachenOpen2011           1    1133    1483    1115   \n",
       "15 2011-04-09             GermanOpen2011           2      -1    1486     938   \n",
       "20 2011-05-28  GHSIngenhovenparkOpen2011           f     831      -1    1133   \n",
       "43 2012-06-23           AachenSummer2012           f    1305    1125    1146   \n",
       "71 2014-04-18      VelbertEasterOpen2014           1     969     771     783   \n",
       "\n",
       "    value4  value5  \n",
       "9       -1    1218  \n",
       "15    1030    1193  \n",
       "20    1231    1294  \n",
       "43    1628      -1  \n",
       "71     769      -1  "
      ]
     },
     "execution_count": 28,
     "metadata": {},
     "output_type": "execute_result"
    }
   ],
   "source": [
    "DNF_rows = dfo.isin([-1]).any(axis=1)\n",
    "dfo[DNF_rows]"
   ]
  },
  {
   "cell_type": "markdown",
   "metadata": {},
   "source": [
    "Lucky for me (and for Philipp), there is at most one DNF per round. Otherwise, Philipp's average for a round would also have been invalid (DNF). But this not being the case for any round allows me to impute the -1 values with the maximum value of the remaining attempts of the affected round, which does not affect the round's average (if computed)."
   ]
  },
  {
   "cell_type": "code",
   "execution_count": 29,
   "metadata": {},
   "outputs": [
    {
     "data": {
      "text/html": [
       "<div>\n",
       "<style scoped>\n",
       "    .dataframe tbody tr th:only-of-type {\n",
       "        vertical-align: middle;\n",
       "    }\n",
       "\n",
       "    .dataframe tbody tr th {\n",
       "        vertical-align: top;\n",
       "    }\n",
       "\n",
       "    .dataframe thead th {\n",
       "        text-align: right;\n",
       "    }\n",
       "</style>\n",
       "<table border=\"1\" class=\"dataframe\">\n",
       "  <thead>\n",
       "    <tr style=\"text-align: right;\">\n",
       "      <th></th>\n",
       "      <th>date</th>\n",
       "      <th>competitionId</th>\n",
       "      <th>roundTypeId</th>\n",
       "      <th>value1</th>\n",
       "      <th>value2</th>\n",
       "      <th>value3</th>\n",
       "      <th>value4</th>\n",
       "      <th>value5</th>\n",
       "    </tr>\n",
       "  </thead>\n",
       "  <tbody>\n",
       "    <tr>\n",
       "      <th>9</th>\n",
       "      <td>2011-01-14 00:00:00</td>\n",
       "      <td>AachenOpen2011</td>\n",
       "      <td>1</td>\n",
       "      <td>1133</td>\n",
       "      <td>1483</td>\n",
       "      <td>1115</td>\n",
       "      <td>1483</td>\n",
       "      <td>1218</td>\n",
       "    </tr>\n",
       "    <tr>\n",
       "      <th>15</th>\n",
       "      <td>2011-04-09 00:00:00</td>\n",
       "      <td>GermanOpen2011</td>\n",
       "      <td>2</td>\n",
       "      <td>1486</td>\n",
       "      <td>1486</td>\n",
       "      <td>938</td>\n",
       "      <td>1030</td>\n",
       "      <td>1193</td>\n",
       "    </tr>\n",
       "    <tr>\n",
       "      <th>20</th>\n",
       "      <td>2011-05-28 00:00:00</td>\n",
       "      <td>GHSIngenhovenparkOpen2011</td>\n",
       "      <td>f</td>\n",
       "      <td>831</td>\n",
       "      <td>1294</td>\n",
       "      <td>1133</td>\n",
       "      <td>1231</td>\n",
       "      <td>1294</td>\n",
       "    </tr>\n",
       "    <tr>\n",
       "      <th>43</th>\n",
       "      <td>2012-06-23 00:00:00</td>\n",
       "      <td>AachenSummer2012</td>\n",
       "      <td>f</td>\n",
       "      <td>1305</td>\n",
       "      <td>1125</td>\n",
       "      <td>1146</td>\n",
       "      <td>1628</td>\n",
       "      <td>1628</td>\n",
       "    </tr>\n",
       "    <tr>\n",
       "      <th>71</th>\n",
       "      <td>2014-04-18 00:00:00</td>\n",
       "      <td>VelbertEasterOpen2014</td>\n",
       "      <td>1</td>\n",
       "      <td>969</td>\n",
       "      <td>771</td>\n",
       "      <td>783</td>\n",
       "      <td>769</td>\n",
       "      <td>969</td>\n",
       "    </tr>\n",
       "  </tbody>\n",
       "</table>\n",
       "</div>"
      ],
      "text/plain": [
       "                   date              competitionId roundTypeId value1 value2  \\\n",
       "9   2011-01-14 00:00:00             AachenOpen2011           1   1133   1483   \n",
       "15  2011-04-09 00:00:00             GermanOpen2011           2   1486   1486   \n",
       "20  2011-05-28 00:00:00  GHSIngenhovenparkOpen2011           f    831   1294   \n",
       "43  2012-06-23 00:00:00           AachenSummer2012           f   1305   1125   \n",
       "71  2014-04-18 00:00:00      VelbertEasterOpen2014           1    969    771   \n",
       "\n",
       "   value3 value4 value5  \n",
       "9    1115   1483   1218  \n",
       "15    938   1030   1193  \n",
       "20   1133   1231   1294  \n",
       "43   1146   1628   1628  \n",
       "71    783    769    969  "
      ]
     },
     "execution_count": 29,
     "metadata": {},
     "output_type": "execute_result"
    }
   ],
   "source": [
    "dfo = dfo.replace(-1, np.nan)\n",
    "# double-transpose is required here because the axis argument to fillna is not implemented\n",
    "dfo = dfo.T.fillna(dfo[value_columns].max(axis=1)).T\n",
    "dfo[DNF_rows]"
   ]
  },
  {
   "cell_type": "markdown",
   "metadata": {},
   "source": [
    "The next problem to deal with is that the 5 individual solves per round are all stored in different columns. Fortunately, pandas provides an easy way to handle this."
   ]
  },
  {
   "cell_type": "code",
   "execution_count": 30,
   "metadata": {},
   "outputs": [
    {
     "data": {
      "text/html": [
       "<div>\n",
       "<style scoped>\n",
       "    .dataframe tbody tr th:only-of-type {\n",
       "        vertical-align: middle;\n",
       "    }\n",
       "\n",
       "    .dataframe tbody tr th {\n",
       "        vertical-align: top;\n",
       "    }\n",
       "\n",
       "    .dataframe thead th {\n",
       "        text-align: right;\n",
       "    }\n",
       "</style>\n",
       "<table border=\"1\" class=\"dataframe\">\n",
       "  <thead>\n",
       "    <tr style=\"text-align: right;\">\n",
       "      <th></th>\n",
       "      <th>date</th>\n",
       "      <th>competitionId</th>\n",
       "      <th>roundTypeId</th>\n",
       "      <th>attempt</th>\n",
       "      <th>value</th>\n",
       "    </tr>\n",
       "  </thead>\n",
       "  <tbody>\n",
       "    <tr>\n",
       "      <th>0</th>\n",
       "      <td>2010-06-12</td>\n",
       "      <td>CologneOpen2010</td>\n",
       "      <td>1</td>\n",
       "      <td>value1</td>\n",
       "      <td>2022</td>\n",
       "    </tr>\n",
       "    <tr>\n",
       "      <th>1</th>\n",
       "      <td>2010-06-12</td>\n",
       "      <td>CologneOpen2010</td>\n",
       "      <td>2</td>\n",
       "      <td>value1</td>\n",
       "      <td>2065</td>\n",
       "    </tr>\n",
       "    <tr>\n",
       "      <th>2</th>\n",
       "      <td>2010-08-14</td>\n",
       "      <td>EastGermanOpen2010</td>\n",
       "      <td>1</td>\n",
       "      <td>value1</td>\n",
       "      <td>1743</td>\n",
       "    </tr>\n",
       "    <tr>\n",
       "      <th>3</th>\n",
       "      <td>2010-08-14</td>\n",
       "      <td>EastGermanOpen2010</td>\n",
       "      <td>2</td>\n",
       "      <td>value1</td>\n",
       "      <td>1840</td>\n",
       "    </tr>\n",
       "    <tr>\n",
       "      <th>4</th>\n",
       "      <td>2010-09-11</td>\n",
       "      <td>Germany2010</td>\n",
       "      <td>1</td>\n",
       "      <td>value1</td>\n",
       "      <td>1593</td>\n",
       "    </tr>\n",
       "  </tbody>\n",
       "</table>\n",
       "</div>"
      ],
      "text/plain": [
       "        date       competitionId roundTypeId attempt value\n",
       "0 2010-06-12     CologneOpen2010           1  value1  2022\n",
       "1 2010-06-12     CologneOpen2010           2  value1  2065\n",
       "2 2010-08-14  EastGermanOpen2010           1  value1  1743\n",
       "3 2010-08-14  EastGermanOpen2010           2  value1  1840\n",
       "4 2010-09-11         Germany2010           1  value1  1593"
      ]
     },
     "execution_count": 30,
     "metadata": {},
     "output_type": "execute_result"
    }
   ],
   "source": [
    "dfo = pd.melt(dfo, id_vars=['date','competitionId','roundTypeId'], value_name='value', var_name='attempt')\n",
    "dfo.head()"
   ]
  },
  {
   "cell_type": "markdown",
   "metadata": {},
   "source": [
    "Time for some final pre-processing!"
   ]
  },
  {
   "cell_type": "code",
   "execution_count": 31,
   "metadata": {},
   "outputs": [
    {
     "name": "stdout",
     "output_type": "stream",
     "text": [
      "<class 'pandas.core.frame.DataFrame'>\n",
      "RangeIndex: 900 entries, 0 to 899\n",
      "Data columns (total 5 columns):\n",
      "date             900 non-null datetime64[ns]\n",
      "competitionId    900 non-null object\n",
      "roundTypeId      900 non-null object\n",
      "attempt          900 non-null int64\n",
      "value            900 non-null float64\n",
      "dtypes: datetime64[ns](1), float64(1), int64(1), object(2)\n",
      "memory usage: 35.2+ KB\n"
     ]
    }
   ],
   "source": [
    "# Finally, it is time to convert the value columns of both dataframes from centiseconds to seconds. \n",
    "pd.options.mode.chained_assignment = None\n",
    "dfo['value'] = dfo['value'].apply(lambda x: float(x) * 0.01)\n",
    "\n",
    "# It is certainly more convenient to store the attempt indicators (value1, value2, ...) as integers (1,2,...) instead of strings \n",
    "dfo['attempt'] = dfo['attempt'].apply(lambda x: int(x[-1]))\n",
    "\n",
    "# Also, the dataframe should be sorted by date, roundTypeId and attempt. Then, I reset its index.\n",
    "dfo = dfo.sort_values(by=['date','roundTypeId','attempt'])\n",
    "dfo = dfo.reset_index(drop=True)\n",
    "dfo.index.name = 'index'\n",
    "\n",
    "dfo.info()"
   ]
  },
  {
   "cell_type": "markdown",
   "metadata": {},
   "source": [
    "Just as for the practice data, let's have a look at some first visualization of Philipp's officiall results."
   ]
  },
  {
   "cell_type": "code",
   "execution_count": 32,
   "metadata": {},
   "outputs": [
    {
     "data": {
      "image/png": "[encoded data removed]",
      "text/plain": [
       "<matplotlib.figure.Figure at 0x12f474e0>"
      ]
     },
     "metadata": {},
     "output_type": "display_data"
    }
   ],
   "source": [
    "plt.figure(1, figsize=(15,5))\n",
    "\n",
    "plt.subplot(121)\n",
    "dfo['value'].hist(bins=50)\n",
    "plt.title('Distribution of official single results')\n",
    "\n",
    "plt.subplot(122)\n",
    "plt.plot(dfo['date'], dfo['value'], '*')\n",
    "plt.xticks(rotation='vertical')\n",
    "plt.title('Official single results over time')\n",
    "\n",
    "plt.tight_layout()\n",
    "plt.show();"
   ]
  },
  {
   "cell_type": "markdown",
   "metadata": {},
   "source": [
    "Great! As last step of this part, I save the cleaned official data for later use!"
   ]
  },
  {
   "cell_type": "code",
   "execution_count": 33,
   "metadata": {},
   "outputs": [
    {
     "name": "stdout",
     "output_type": "stream",
     "text": [
      "['clean_data\\\\official_results.csv', 'clean_data\\\\practice_data.csv']\n"
     ]
    }
   ],
   "source": [
    "dfo.to_csv('clean_data/official_results.csv')\n",
    "output = glob.glob('clean_data/*.csv')\n",
    "print(output)"
   ]
  },
  {
   "cell_type": "markdown",
   "metadata": {},
   "source": [
    "**And that's it with the data wrangling & cleaning part! If you want to see further analysis check out [Part II: Data analysis](Part_2_data_analysis.ipynb)!**"
   ]
  },
  {
   "cell_type": "code",
   "execution_count": null,
   "metadata": {
    "collapsed": true
   },
   "outputs": [],
   "source": []
  }
 ],
 "metadata": {
  "kernelspec": {
   "display_name": "Python [conda env:Anaconda3]",
   "language": "python",
   "name": "conda-env-Anaconda3-py"
  },
  "language_info": {
   "codemirror_mode": {
    "name": "ipython",
    "version": 3
   },
   "file_extension": ".py",
   "mimetype": "text/x-python",
   "name": "python",
   "nbconvert_exporter": "python",
   "pygments_lexer": "ipython3",
   "version": "3.6.4"
  }
 },
 "nbformat": 4,
 "nbformat_minor": 2
}
