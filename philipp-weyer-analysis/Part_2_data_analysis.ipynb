{
 "cells": [
  {
   "cell_type": "markdown",
   "metadata": {},
   "source": [
    "# Analyzing solving times of a world-class speedcuber - Philipp Weyer\n",
    "\n",
    "**Speedcubing** is the activity of solving a variety of twisty puzzles as fast as possible. The most famous twisty puzzle from the Speedcubing domain (which is also responsible for shaping the term *Speedcubing*) is the widely-known [Rubik's Cube](https://en.wikipedia.org/wiki/Rubik%27s_Cube), or more generally **3x3x3 Cube** (since *Rubik's Cube* is technically a brand name). In recent years, the popularity of Speedcubing has grown exponentially all over the world, which can mainly be attributed to the efforts of its global governing body, the [World Cube Association (WCA)](https://www.worldcubeassociation.org/). In 2017 alone, there have been 925 WCA competitions in 88 different countries with 37547 distinct competitors.\n",
    "\n",
    "One of these competitors is [Philipp Weyer](https://www.worldcubeassociation.org/persons/2010WEYE01). Philipp is currently (beginning of March 2018) placed 8th in the [3x3x3 Cube WCA world rankings](https://www.worldcubeassociation.org/results/events.php?eventId=333&regionId=&years=&show=100%2BPersons&average=Average) with an average of 6.77 seconds (for the WCA's *average of 5* format each competitor is alotted 5 attempts, the best and worst attempts are removed, and the arithmetic mean of the remaining 3 attempts counts for the competitor's result).\n",
    "\n",
    "***Ok, that's all quite interesting, but what makes Philipp Weyer particularly interesting for data analysis?!***\n",
    "\n",
    "To be able to achieve such astonishing results, world-class speedcubers like Philipp do a tremendous amount of practice solves at home. But while most speedcubers do not keep track of these results, **Philipp has accumulated a data set of *over 200.000 timed 3x3x3 solves* since November 2013! Moreover, Philipp has shared this data with me to analyze it!**"
   ]
  },
  {
   "cell_type": "markdown",
   "metadata": {},
   "source": [
    "# Part II: Data analysis\n",
    "\n",
    "In this second part of my analysis, I will perform the actual data analysis on Philipp's practice data & official results that were wrangled and cleaned in [Part I: Data wrangling & cleaning](Part_1_data_wrangling_cleaning.ipynb).\n",
    "\n",
    "* [Data import](#Import-of-the-cleaned-data)\n",
    "* [Initial overview](#Initial-overview)\n",
    "* [Practice data: rolling averages](#Practice-data:-rolling-averages)\n",
    "* [Practice data: progress analysis](#Practice-data:-progress-analysis)\n",
    "* [Practice data vs. official results: Philipp's competition performance](#Practice-data-vs.-official-results:-Philipp's-competition-performance) \n",
    "  * [Z-scores](#Z-scores) \n",
    "  * [Linear regression](#Linear-regression)\n",
    "* [Overcoming barriers: official sub7 average](#Overcoming-barriers:-official-sub7-average)\n",
    "* [Conclusion](#Conclusion)"
   ]
  },
  {
   "cell_type": "code",
   "execution_count": 1,
   "metadata": {
    "collapsed": true
   },
   "outputs": [],
   "source": [
    "import pandas as pd\n",
    "import numpy as np\n",
    "import matplotlib.pyplot as plt\n",
    "import seaborn as sns\n",
    "import datetime, re, scipy.stats\n",
    "from IPython.display import HTML, display"
   ]
  },
  {
   "cell_type": "markdown",
   "metadata": {},
   "source": [
    "## Import of the cleaned data\n",
    "\n",
    "As a first step, I retrieve and verify the cleaned data."
   ]
  },
  {
   "cell_type": "code",
   "execution_count": 2,
   "metadata": {
    "collapsed": true,
    "scrolled": true
   },
   "outputs": [],
   "source": [
    "## practice data\n",
    "# import and verify data types\n",
    "practice_data = pd.read_csv('clean_data/practice_data.csv', index_col='timestamp', parse_dates=True, \n",
    "                  usecols=['timestamp','value'])\n",
    "assert practice_data.value.dtypes == np.float64\n",
    "\n",
    "## official singles and averages\n",
    "# import and verify data types\n",
    "official_data = pd.read_csv('clean_data/official_results.csv', index_col='date', parse_dates=True, \n",
    "                  usecols=['date','competitionId','roundTypeId','attempt','value'])\n",
    "assert official_data.value.dtypes == np.float64\n",
    "assert official_data.roundTypeId.dtypes == np.object\n",
    "assert official_data.attempt.dtypes == np.int64\n",
    "official_data.roundTypeId = official_data.roundTypeId.astype('category')\n",
    "\n",
    "# reduce the official results to the time frame of the practice data\n",
    "min_date = practice_data.index.min()\n",
    "official_data = official_data.loc[min_date:,:]"
   ]
  },
  {
   "cell_type": "code",
   "execution_count": 3,
   "metadata": {},
   "outputs": [
    {
     "name": "stdout",
     "output_type": "stream",
     "text": [
      "<class 'pandas.core.frame.DataFrame'>\n",
      "DatetimeIndex: 235114 entries, 2013-11-16 21:53:57 to 2018-02-19 19:55:33\n",
      "Data columns (total 1 columns):\n",
      "value    235114 non-null float64\n",
      "dtypes: float64(1)\n",
      "memory usage: 3.6 MB\n"
     ]
    }
   ],
   "source": [
    "practice_data.info()"
   ]
  },
  {
   "cell_type": "code",
   "execution_count": 4,
   "metadata": {},
   "outputs": [
    {
     "name": "stdout",
     "output_type": "stream",
     "text": [
      "<class 'pandas.core.frame.DataFrame'>\n",
      "DatetimeIndex: 600 entries, 2013-11-23 to 2018-02-17\n",
      "Data columns (total 4 columns):\n",
      "competitionId    600 non-null object\n",
      "roundTypeId      600 non-null category\n",
      "attempt          600 non-null int64\n",
      "value            600 non-null float64\n",
      "dtypes: category(1), float64(1), int64(1), object(1)\n",
      "memory usage: 19.5+ KB\n"
     ]
    }
   ],
   "source": [
    "official_data.info()"
   ]
  },
  {
   "cell_type": "markdown",
   "metadata": {},
   "source": [
    "## Initial overview\n",
    "\n",
    "Before starting further analysis, I first provide an initial descriptive overview of the data sets."
   ]
  },
  {
   "cell_type": "code",
   "execution_count": 5,
   "metadata": {},
   "outputs": [
    {
     "data": {
      "text/html": [
       "<div>\n",
       "<style scoped>\n",
       "    .dataframe tbody tr th:only-of-type {\n",
       "        vertical-align: middle;\n",
       "    }\n",
       "\n",
       "    .dataframe tbody tr th {\n",
       "        vertical-align: top;\n",
       "    }\n",
       "\n",
       "    .dataframe thead th {\n",
       "        text-align: right;\n",
       "    }\n",
       "</style>\n",
       "<table border=\"1\" class=\"dataframe\">\n",
       "  <thead>\n",
       "    <tr style=\"text-align: right;\">\n",
       "      <th></th>\n",
       "      <th>value</th>\n",
       "    </tr>\n",
       "  </thead>\n",
       "  <tbody>\n",
       "    <tr>\n",
       "      <th>count</th>\n",
       "      <td>235114.000000</td>\n",
       "    </tr>\n",
       "    <tr>\n",
       "      <th>mean</th>\n",
       "      <td>8.046510</td>\n",
       "    </tr>\n",
       "    <tr>\n",
       "      <th>std</th>\n",
       "      <td>1.192896</td>\n",
       "    </tr>\n",
       "    <tr>\n",
       "      <th>min</th>\n",
       "      <td>3.190000</td>\n",
       "    </tr>\n",
       "    <tr>\n",
       "      <th>25%</th>\n",
       "      <td>7.220000</td>\n",
       "    </tr>\n",
       "    <tr>\n",
       "      <th>50%</th>\n",
       "      <td>7.930000</td>\n",
       "    </tr>\n",
       "    <tr>\n",
       "      <th>75%</th>\n",
       "      <td>8.760000</td>\n",
       "    </tr>\n",
       "    <tr>\n",
       "      <th>max</th>\n",
       "      <td>20.460000</td>\n",
       "    </tr>\n",
       "  </tbody>\n",
       "</table>\n",
       "</div>"
      ],
      "text/plain": [
       "               value\n",
       "count  235114.000000\n",
       "mean        8.046510\n",
       "std         1.192896\n",
       "min         3.190000\n",
       "25%         7.220000\n",
       "50%         7.930000\n",
       "75%         8.760000\n",
       "max        20.460000"
      ]
     },
     "execution_count": 5,
     "metadata": {},
     "output_type": "execute_result"
    }
   ],
   "source": [
    "practice_data[['value']].describe()"
   ]
  },
  {
   "cell_type": "code",
   "execution_count": 6,
   "metadata": {},
   "outputs": [
    {
     "data": {
      "text/html": [
       "<div>\n",
       "<style scoped>\n",
       "    .dataframe tbody tr th:only-of-type {\n",
       "        vertical-align: middle;\n",
       "    }\n",
       "\n",
       "    .dataframe tbody tr th {\n",
       "        vertical-align: top;\n",
       "    }\n",
       "\n",
       "    .dataframe thead th {\n",
       "        text-align: right;\n",
       "    }\n",
       "</style>\n",
       "<table border=\"1\" class=\"dataframe\">\n",
       "  <thead>\n",
       "    <tr style=\"text-align: right;\">\n",
       "      <th></th>\n",
       "      <th>value</th>\n",
       "    </tr>\n",
       "  </thead>\n",
       "  <tbody>\n",
       "    <tr>\n",
       "      <th>count</th>\n",
       "      <td>600.000000</td>\n",
       "    </tr>\n",
       "    <tr>\n",
       "      <th>mean</th>\n",
       "      <td>8.079850</td>\n",
       "    </tr>\n",
       "    <tr>\n",
       "      <th>std</th>\n",
       "      <td>1.243499</td>\n",
       "    </tr>\n",
       "    <tr>\n",
       "      <th>min</th>\n",
       "      <td>5.050000</td>\n",
       "    </tr>\n",
       "    <tr>\n",
       "      <th>25%</th>\n",
       "      <td>7.220000</td>\n",
       "    </tr>\n",
       "    <tr>\n",
       "      <th>50%</th>\n",
       "      <td>7.900000</td>\n",
       "    </tr>\n",
       "    <tr>\n",
       "      <th>75%</th>\n",
       "      <td>8.712500</td>\n",
       "    </tr>\n",
       "    <tr>\n",
       "      <th>max</th>\n",
       "      <td>14.940000</td>\n",
       "    </tr>\n",
       "  </tbody>\n",
       "</table>\n",
       "</div>"
      ],
      "text/plain": [
       "            value\n",
       "count  600.000000\n",
       "mean     8.079850\n",
       "std      1.243499\n",
       "min      5.050000\n",
       "25%      7.220000\n",
       "50%      7.900000\n",
       "75%      8.712500\n",
       "max     14.940000"
      ]
     },
     "execution_count": 6,
     "metadata": {},
     "output_type": "execute_result"
    }
   ],
   "source": [
    "official_data[['value']].describe()"
   ]
  },
  {
   "cell_type": "code",
   "execution_count": 7,
   "metadata": {},
   "outputs": [
    {
     "data": {
      "image/png": "[encoded data removed]",
      "text/plain": [
       "<matplotlib.figure.Figure at 0xebee9e8>"
      ]
     },
     "metadata": {},
     "output_type": "display_data"
    }
   ],
   "source": [
    "fig, axes = plt.subplots(nrows=2, ncols=2, figsize=(15,10))\n",
    "\n",
    "practice_data['value'].hist(ax=axes[0,0], bins=50)\n",
    "axes[0,0].set_title('Practice data: distribution of practice solves', fontsize=16)\n",
    "\n",
    "practice_mean_per_day = practice_data['value'].resample('D').mean()\n",
    "\n",
    "practice_mean_per_day.plot(ax=axes[0,1], style='.', rot='30')\n",
    "axes[0,1].set_title('Practice data: per-day means over time', fontsize=16)\n",
    "\n",
    "official_data['value'].hist(ax=axes[1,0],bins=50)\n",
    "axes[1,0].set_title('Official results: distribution of official single results', fontsize=16)\n",
    "\n",
    "official_mean_per_comp = official_data['value'].resample('D').mean()\n",
    "\n",
    "official_mean_per_comp.plot(ax=axes[1,1], style='o', rot='30')\n",
    "axes[1,1].set_title('Official results: per-competition means over time', fontsize=16)\n",
    "\n",
    "for i,j in [(0,0),(0,1),(1,0),(1,1)]:\n",
    "    axes[i,j].set_xlabel('')\n",
    "\n",
    "plt.suptitle('Philipp\\'s practice data & official results (first overview)', fontsize=24)\n",
    "plt.tight_layout()\n",
    "plt.subplots_adjust(top=0.90)\n",
    "plt.show();"
   ]
  },
  {
   "cell_type": "markdown",
   "metadata": {},
   "source": [
    "## Practice data: rolling averages\n",
    "\n",
    "Even though the tables and plots above give a decent first overview, per-day means are not really suitable to describe the practice data since the number of practice solves Philipp made per day varies a lot:"
   ]
  },
  {
   "cell_type": "code",
   "execution_count": 8,
   "metadata": {},
   "outputs": [
    {
     "data": {
      "text/plain": [
       "count    1557.000000\n",
       "mean      151.004496\n",
       "std       159.641120\n",
       "min         0.000000\n",
       "25%         4.000000\n",
       "50%       110.000000\n",
       "75%       231.000000\n",
       "max      1087.000000\n",
       "Name: value, dtype: float64"
      ]
     },
     "execution_count": 8,
     "metadata": {},
     "output_type": "execute_result"
    }
   ],
   "source": [
    "practice_solves_per_day = practice_data.value.resample('D').count()\n",
    "practice_solves_per_day.describe()"
   ]
  },
  {
   "cell_type": "code",
   "execution_count": 9,
   "metadata": {},
   "outputs": [
    {
     "data": {
      "image/png": "[encoded data removed]",
      "text/plain": [
       "<matplotlib.figure.Figure at 0xebee8d0>"
      ]
     },
     "metadata": {},
     "output_type": "display_data"
    }
   ],
   "source": [
    "fig, axes = plt.subplots(nrows=1, ncols=2, figsize=(15,5))\n",
    "\n",
    "practice_solves_per_day.plot(ax=axes[0], kind='hist', bins = 50)\n",
    "axes[0].set_title('Distribution of number of solves per day', fontsize=16)\n",
    "\n",
    "practice_solves_per_day.plot(ax=axes[1], kind='area')\n",
    "axes[1].set_title('Solves per day over time', fontsize=16)\n",
    "\n",
    "for i in [0,1]:\n",
    "    axes[i].set_xlabel('')\n",
    "\n",
    "plt.tight_layout()\n",
    "plt.show();"
   ]
  },
  {
   "cell_type": "markdown",
   "metadata": {},
   "source": [
    "As suggested above, these plots confirm that the number of practice solves Philipp made per day varies a lot. So instead of looking at those, a better way to measure pracitce times (and their development) are so-called *rolling averages of X*, which is the mean of the last X solves (after removing the best and worst 5%, rounded up). In the following I will look at numbers of X that speedcubers are typically interested in: 5, 12, 100, 1000.\n",
    "\n",
    "**Note:** The solves per day over time plot also reveals a lack of data over a longer time period in 2016. Philipp told me that this was caused by switching to a new operating system, on which he first used a different timing software. Unfortunately, the data for this period is not available."
   ]
  },
  {
   "cell_type": "code",
   "execution_count": 10,
   "metadata": {
    "collapsed": true
   },
   "outputs": [],
   "source": [
    "def get_average(array):\n",
    "    \"\"\" \n",
    "    Helper function to return the average of a given range, removing the best and worst 5% of the given times. \n",
    "    In particular, the output correspinds to WCA's average of 5 format for 5 input times.\n",
    "    \"\"\"\n",
    "    \n",
    "    num = len(array)\n",
    "    cut = int(np.ceil(num*0.05))\n",
    "    sorted_array = np.sort(array)\n",
    "    counting_times = sorted_array[cut:-cut]\n",
    "    \n",
    "    return np.round(counting_times.mean(),2)"
   ]
  },
  {
   "cell_type": "code",
   "execution_count": 11,
   "metadata": {
    "collapsed": true
   },
   "outputs": [],
   "source": [
    "average_sizes = [5,12,100,1000]\n",
    "average_labels = ['average_of_' + str(x) for x in average_sizes]\n",
    "\n",
    "for x, a in zip(average_sizes, average_labels):\n",
    "    practice_data[a] = practice_data.value.rolling(window=x).apply(get_average)"
   ]
  },
  {
   "cell_type": "markdown",
   "metadata": {},
   "source": [
    "The following table gives an overview of Philipps single times, as well as his rolling averages of 5, 12, 100 and 1000:"
   ]
  },
  {
   "cell_type": "code",
   "execution_count": 12,
   "metadata": {},
   "outputs": [
    {
     "data": {
      "text/html": [
       "<div>\n",
       "<style scoped>\n",
       "    .dataframe tbody tr th:only-of-type {\n",
       "        vertical-align: middle;\n",
       "    }\n",
       "\n",
       "    .dataframe tbody tr th {\n",
       "        vertical-align: top;\n",
       "    }\n",
       "\n",
       "    .dataframe thead th {\n",
       "        text-align: right;\n",
       "    }\n",
       "</style>\n",
       "<table border=\"1\" class=\"dataframe\">\n",
       "  <thead>\n",
       "    <tr style=\"text-align: right;\">\n",
       "      <th></th>\n",
       "      <th>value</th>\n",
       "      <th>average_of_5</th>\n",
       "      <th>average_of_12</th>\n",
       "      <th>average_of_100</th>\n",
       "      <th>average_of_1000</th>\n",
       "    </tr>\n",
       "  </thead>\n",
       "  <tbody>\n",
       "    <tr>\n",
       "      <th>count</th>\n",
       "      <td>235114.000000</td>\n",
       "      <td>235110.000000</td>\n",
       "      <td>235103.000000</td>\n",
       "      <td>235015.000000</td>\n",
       "      <td>234115.000000</td>\n",
       "    </tr>\n",
       "    <tr>\n",
       "      <th>mean</th>\n",
       "      <td>8.046510</td>\n",
       "      <td>7.995051</td>\n",
       "      <td>8.008594</td>\n",
       "      <td>8.011335</td>\n",
       "      <td>8.008844</td>\n",
       "    </tr>\n",
       "    <tr>\n",
       "      <th>std</th>\n",
       "      <td>1.192896</td>\n",
       "      <td>0.769755</td>\n",
       "      <td>0.669440</td>\n",
       "      <td>0.579121</td>\n",
       "      <td>0.538754</td>\n",
       "    </tr>\n",
       "    <tr>\n",
       "      <th>min</th>\n",
       "      <td>3.190000</td>\n",
       "      <td>5.230000</td>\n",
       "      <td>6.020000</td>\n",
       "      <td>6.540000</td>\n",
       "      <td>6.960000</td>\n",
       "    </tr>\n",
       "    <tr>\n",
       "      <th>25%</th>\n",
       "      <td>7.220000</td>\n",
       "      <td>7.440000</td>\n",
       "      <td>7.520000</td>\n",
       "      <td>7.590000</td>\n",
       "      <td>7.600000</td>\n",
       "    </tr>\n",
       "    <tr>\n",
       "      <th>50%</th>\n",
       "      <td>7.930000</td>\n",
       "      <td>7.940000</td>\n",
       "      <td>7.960000</td>\n",
       "      <td>7.940000</td>\n",
       "      <td>7.920000</td>\n",
       "    </tr>\n",
       "    <tr>\n",
       "      <th>75%</th>\n",
       "      <td>8.760000</td>\n",
       "      <td>8.490000</td>\n",
       "      <td>8.460000</td>\n",
       "      <td>8.430000</td>\n",
       "      <td>8.430000</td>\n",
       "    </tr>\n",
       "    <tr>\n",
       "      <th>max</th>\n",
       "      <td>20.460000</td>\n",
       "      <td>11.990000</td>\n",
       "      <td>11.220000</td>\n",
       "      <td>10.000000</td>\n",
       "      <td>9.530000</td>\n",
       "    </tr>\n",
       "  </tbody>\n",
       "</table>\n",
       "</div>"
      ],
      "text/plain": [
       "               value   average_of_5  average_of_12  average_of_100  \\\n",
       "count  235114.000000  235110.000000  235103.000000   235015.000000   \n",
       "mean        8.046510       7.995051       8.008594        8.011335   \n",
       "std         1.192896       0.769755       0.669440        0.579121   \n",
       "min         3.190000       5.230000       6.020000        6.540000   \n",
       "25%         7.220000       7.440000       7.520000        7.590000   \n",
       "50%         7.930000       7.940000       7.960000        7.940000   \n",
       "75%         8.760000       8.490000       8.460000        8.430000   \n",
       "max        20.460000      11.990000      11.220000       10.000000   \n",
       "\n",
       "       average_of_1000  \n",
       "count    234115.000000  \n",
       "mean          8.008844  \n",
       "std           0.538754  \n",
       "min           6.960000  \n",
       "25%           7.600000  \n",
       "50%           7.920000  \n",
       "75%           8.430000  \n",
       "max           9.530000  "
      ]
     },
     "execution_count": 12,
     "metadata": {},
     "output_type": "execute_result"
    }
   ],
   "source": [
    "practice_data[['value'] + average_labels].describe()"
   ]
  },
  {
   "cell_type": "markdown",
   "metadata": {},
   "source": [
    "Naturally, *bigger* averages provide a better description of how fast Philipp actually is, therefore I visualize his averages of 100 and 1000 over time:"
   ]
  },
  {
   "cell_type": "code",
   "execution_count": 13,
   "metadata": {
    "scrolled": true
   },
   "outputs": [
    {
     "data": {
      "image/png": "[encoded data removed]",
      "text/plain": [
       "<matplotlib.figure.Figure at 0x5867a20>"
      ]
     },
     "metadata": {},
     "output_type": "display_data"
    }
   ],
   "source": [
    "fig, axes = plt.subplots(nrows=1, ncols=2, figsize=(15,5))\n",
    "\n",
    "practice_data['average_of_100'].plot(ax=axes[0], style=',', rot='30')\n",
    "axes[0].set_title('Rolling average of 100 over time', fontsize=16)\n",
    "\n",
    "practice_data['average_of_1000'].plot(ax=axes[1], style=',', rot='30')\n",
    "axes[1].set_title('Rolling average of 1000 over time', fontsize=16)\n",
    "\n",
    "for i in [0,1]:\n",
    "    axes[i].set_xlabel('')\n",
    "\n",
    "plt.tight_layout()\n",
    "plt.show();"
   ]
  },
  {
   "cell_type": "markdown",
   "metadata": {},
   "source": [
    "Interesting! Especially the average of 1000 plot shows some clear and partially surprising trends. I will focus on analyzing these further in the following."
   ]
  },
  {
   "cell_type": "markdown",
   "metadata": {},
   "source": [
    "## Practice data: progress analysis\n",
    "\n",
    "My goal for this analysis is to look at Philipp's average of 1000 progression in more detail, using confidence intervals to determine statistically significant changes. Since 1000 solves represents quite a large sample size, it is reasonable to use [t-based confidence intervals](http://www.stat.wmich.edu/s216/book/node79.html) for estimating the true population mean (i.e. Philipp's *true speed* at a given time) based on a sample of 1000 consecutive solves. It should be noted that this approach assumes that the progress achieved within 1000 solves is negligible."
   ]
  },
  {
   "cell_type": "code",
   "execution_count": 14,
   "metadata": {
    "collapsed": true
   },
   "outputs": [],
   "source": [
    "def get_average_CI_error_margin(array, alpha=0.99):\n",
    "    \"\"\" returns the average of X of a given sample including the confidence interval at level alpha \"\"\"\n",
    "    \n",
    "    num = len(array)\n",
    "    cut = int(np.ceil(num*0.05))\n",
    "    sorted_array = np.sort(array)\n",
    "    ct = sorted_array[cut:-cut]\n",
    "    \n",
    "    av = np.round(ct.mean(),2)\n",
    "    CI_lower, CI_upper = scipy.stats.t.interval(alpha, len(ct)-1, loc=av, scale=scipy.stats.sem(ct))\n",
    "    error_margin = (CI_upper - CI_lower) / 2\n",
    "    \n",
    "    return error_margin"
   ]
  },
  {
   "cell_type": "markdown",
   "metadata": {},
   "source": [
    "To calculate the confidence intervals, I am using a confidence level of $\\alpha = 99\\%$."
   ]
  },
  {
   "cell_type": "code",
   "execution_count": 15,
   "metadata": {
    "collapsed": true
   },
   "outputs": [],
   "source": [
    "ao1000_data = practice_data[['value','average_of_1000']].copy()\n",
    "ao1000_data['error_margin'] = ao1000_data.value.rolling(window=1000).apply(lambda x: get_average_CI_error_margin(x, alpha=0.99))\n",
    "ao1000_data['CI_lower'] = ao1000_data['average_of_1000'] - ao1000_data['error_margin']\n",
    "ao1000_data['CI_upper'] = ao1000_data['average_of_1000'] + ao1000_data['error_margin']"
   ]
  },
  {
   "cell_type": "code",
   "execution_count": 16,
   "metadata": {},
   "outputs": [
    {
     "data": {
      "text/html": [
       "<div>\n",
       "<style scoped>\n",
       "    .dataframe tbody tr th:only-of-type {\n",
       "        vertical-align: middle;\n",
       "    }\n",
       "\n",
       "    .dataframe tbody tr th {\n",
       "        vertical-align: top;\n",
       "    }\n",
       "\n",
       "    .dataframe thead th {\n",
       "        text-align: right;\n",
       "    }\n",
       "</style>\n",
       "<table border=\"1\" class=\"dataframe\">\n",
       "  <thead>\n",
       "    <tr style=\"text-align: right;\">\n",
       "      <th></th>\n",
       "      <th>value</th>\n",
       "      <th>average_of_1000</th>\n",
       "      <th>error_margin</th>\n",
       "      <th>CI_lower</th>\n",
       "      <th>CI_upper</th>\n",
       "    </tr>\n",
       "  </thead>\n",
       "  <tbody>\n",
       "    <tr>\n",
       "      <th>count</th>\n",
       "      <td>235114.000000</td>\n",
       "      <td>234115.000000</td>\n",
       "      <td>234115.000000</td>\n",
       "      <td>234115.000000</td>\n",
       "      <td>234115.000000</td>\n",
       "    </tr>\n",
       "    <tr>\n",
       "      <th>mean</th>\n",
       "      <td>8.046510</td>\n",
       "      <td>8.008844</td>\n",
       "      <td>0.069242</td>\n",
       "      <td>7.939602</td>\n",
       "      <td>8.078087</td>\n",
       "    </tr>\n",
       "    <tr>\n",
       "      <th>std</th>\n",
       "      <td>1.192896</td>\n",
       "      <td>0.538754</td>\n",
       "      <td>0.005838</td>\n",
       "      <td>0.534496</td>\n",
       "      <td>0.543042</td>\n",
       "    </tr>\n",
       "    <tr>\n",
       "      <th>min</th>\n",
       "      <td>3.190000</td>\n",
       "      <td>6.960000</td>\n",
       "      <td>0.048880</td>\n",
       "      <td>6.897295</td>\n",
       "      <td>7.022447</td>\n",
       "    </tr>\n",
       "    <tr>\n",
       "      <th>25%</th>\n",
       "      <td>7.220000</td>\n",
       "      <td>7.600000</td>\n",
       "      <td>0.064913</td>\n",
       "      <td>7.529940</td>\n",
       "      <td>7.661143</td>\n",
       "    </tr>\n",
       "    <tr>\n",
       "      <th>50%</th>\n",
       "      <td>7.930000</td>\n",
       "      <td>7.920000</td>\n",
       "      <td>0.068476</td>\n",
       "      <td>7.848147</td>\n",
       "      <td>7.987941</td>\n",
       "    </tr>\n",
       "    <tr>\n",
       "      <th>75%</th>\n",
       "      <td>8.760000</td>\n",
       "      <td>8.430000</td>\n",
       "      <td>0.072313</td>\n",
       "      <td>8.358866</td>\n",
       "      <td>8.500071</td>\n",
       "    </tr>\n",
       "    <tr>\n",
       "      <th>max</th>\n",
       "      <td>20.460000</td>\n",
       "      <td>9.530000</td>\n",
       "      <td>0.090554</td>\n",
       "      <td>9.449317</td>\n",
       "      <td>9.611163</td>\n",
       "    </tr>\n",
       "  </tbody>\n",
       "</table>\n",
       "</div>"
      ],
      "text/plain": [
       "               value  average_of_1000   error_margin       CI_lower  \\\n",
       "count  235114.000000    234115.000000  234115.000000  234115.000000   \n",
       "mean        8.046510         8.008844       0.069242       7.939602   \n",
       "std         1.192896         0.538754       0.005838       0.534496   \n",
       "min         3.190000         6.960000       0.048880       6.897295   \n",
       "25%         7.220000         7.600000       0.064913       7.529940   \n",
       "50%         7.930000         7.920000       0.068476       7.848147   \n",
       "75%         8.760000         8.430000       0.072313       8.358866   \n",
       "max        20.460000         9.530000       0.090554       9.449317   \n",
       "\n",
       "            CI_upper  \n",
       "count  234115.000000  \n",
       "mean        8.078087  \n",
       "std         0.543042  \n",
       "min         7.022447  \n",
       "25%         7.661143  \n",
       "50%         7.987941  \n",
       "75%         8.500071  \n",
       "max         9.611163  "
      ]
     },
     "execution_count": 16,
     "metadata": {},
     "output_type": "execute_result"
    }
   ],
   "source": [
    "ao1000_data.describe()"
   ]
  },
  {
   "cell_type": "markdown",
   "metadata": {},
   "source": [
    "Now, I will take the first average of 1000 as a reference and simply define it as *significant*. I then go through the data and iteratively look for the next average of 1000 and define it as *significant* if and only if it is (i) disjoint with the last significant average of 1000 and (ii) its confidence interval is also disjoint with the confidence interval of the last significant average of 1000."
   ]
  },
  {
   "cell_type": "code",
   "execution_count": 17,
   "metadata": {
    "collapsed": true
   },
   "outputs": [],
   "source": [
    "ao1000_data = ao1000_data.dropna()\n",
    "ao1000_data['significant'] = False\n",
    "sig_index = ao1000_data.columns.get_loc('significant')\n",
    "cil_index = ao1000_data.columns.get_loc('CI_lower')\n",
    "ciu_index = ao1000_data.columns.get_loc('CI_upper')\n",
    "curr_index = 0\n",
    "\n",
    "while curr_index < len(ao1000_data):\n",
    "    sig = False\n",
    "    curr_CI = (ao1000_data.iloc[curr_index, cil_index], ao1000_data.iloc[curr_index, ciu_index])\n",
    "    \n",
    "    if curr_index == 0:\n",
    "        sig = True\n",
    "    elif curr_CI[1] < last_sig_CI[0] or last_sig_CI[1] < curr_CI[0]: # CIs are disjoint\n",
    "        sig = True\n",
    "            \n",
    "    if sig == True:\n",
    "        last_sig_index = curr_index\n",
    "        last_sig_CI = curr_CI\n",
    "        ao1000_data.iloc[curr_index, sig_index] = True\n",
    "        # skip next 1000 rows\n",
    "        ao1000_data.iloc[curr_index+1:curr_index+1000, sig_index] = False\n",
    "        curr_index += 1000\n",
    "    else:\n",
    "        curr_index += 1    "
   ]
  },
  {
   "cell_type": "markdown",
   "metadata": {},
   "source": [
    "Let's look at the result!"
   ]
  },
  {
   "cell_type": "code",
   "execution_count": 18,
   "metadata": {},
   "outputs": [
    {
     "data": {
      "text/html": [
       "<div>\n",
       "<style scoped>\n",
       "    .dataframe tbody tr th:only-of-type {\n",
       "        vertical-align: middle;\n",
       "    }\n",
       "\n",
       "    .dataframe tbody tr th {\n",
       "        vertical-align: top;\n",
       "    }\n",
       "\n",
       "    .dataframe thead th {\n",
       "        text-align: right;\n",
       "    }\n",
       "</style>\n",
       "<table border=\"1\" class=\"dataframe\">\n",
       "  <thead>\n",
       "    <tr style=\"text-align: right;\">\n",
       "      <th></th>\n",
       "      <th>value</th>\n",
       "      <th>average_of_1000</th>\n",
       "      <th>error_margin</th>\n",
       "      <th>CI_lower</th>\n",
       "      <th>CI_upper</th>\n",
       "    </tr>\n",
       "  </thead>\n",
       "  <tbody>\n",
       "    <tr>\n",
       "      <th>count</th>\n",
       "      <td>144.000000</td>\n",
       "      <td>144.000000</td>\n",
       "      <td>144.000000</td>\n",
       "      <td>144.000000</td>\n",
       "      <td>144.000000</td>\n",
       "    </tr>\n",
       "    <tr>\n",
       "      <th>mean</th>\n",
       "      <td>7.908681</td>\n",
       "      <td>8.000556</td>\n",
       "      <td>0.069142</td>\n",
       "      <td>7.931414</td>\n",
       "      <td>8.069697</td>\n",
       "    </tr>\n",
       "    <tr>\n",
       "      <th>std</th>\n",
       "      <td>1.315800</td>\n",
       "      <td>0.511729</td>\n",
       "      <td>0.005726</td>\n",
       "      <td>0.507667</td>\n",
       "      <td>0.515823</td>\n",
       "    </tr>\n",
       "    <tr>\n",
       "      <th>min</th>\n",
       "      <td>5.280000</td>\n",
       "      <td>6.980000</td>\n",
       "      <td>0.055538</td>\n",
       "      <td>6.918590</td>\n",
       "      <td>7.041410</td>\n",
       "    </tr>\n",
       "    <tr>\n",
       "      <th>25%</th>\n",
       "      <td>6.852500</td>\n",
       "      <td>7.620000</td>\n",
       "      <td>0.065184</td>\n",
       "      <td>7.555716</td>\n",
       "      <td>7.686685</td>\n",
       "    </tr>\n",
       "    <tr>\n",
       "      <th>50%</th>\n",
       "      <td>7.800000</td>\n",
       "      <td>7.965000</td>\n",
       "      <td>0.068273</td>\n",
       "      <td>7.896574</td>\n",
       "      <td>8.033426</td>\n",
       "    </tr>\n",
       "    <tr>\n",
       "      <th>75%</th>\n",
       "      <td>8.812500</td>\n",
       "      <td>8.375000</td>\n",
       "      <td>0.071675</td>\n",
       "      <td>8.305758</td>\n",
       "      <td>8.443959</td>\n",
       "    </tr>\n",
       "    <tr>\n",
       "      <th>max</th>\n",
       "      <td>11.310000</td>\n",
       "      <td>9.530000</td>\n",
       "      <td>0.086500</td>\n",
       "      <td>9.448850</td>\n",
       "      <td>9.611150</td>\n",
       "    </tr>\n",
       "  </tbody>\n",
       "</table>\n",
       "</div>"
      ],
      "text/plain": [
       "            value  average_of_1000  error_margin    CI_lower    CI_upper\n",
       "count  144.000000       144.000000    144.000000  144.000000  144.000000\n",
       "mean     7.908681         8.000556      0.069142    7.931414    8.069697\n",
       "std      1.315800         0.511729      0.005726    0.507667    0.515823\n",
       "min      5.280000         6.980000      0.055538    6.918590    7.041410\n",
       "25%      6.852500         7.620000      0.065184    7.555716    7.686685\n",
       "50%      7.800000         7.965000      0.068273    7.896574    8.033426\n",
       "75%      8.812500         8.375000      0.071675    8.305758    8.443959\n",
       "max     11.310000         9.530000      0.086500    9.448850    9.611150"
      ]
     },
     "execution_count": 18,
     "metadata": {},
     "output_type": "execute_result"
    }
   ],
   "source": [
    "ao1000_data[ao1000_data.significant].describe()"
   ]
  },
  {
   "cell_type": "markdown",
   "metadata": {},
   "source": [
    "144 significant averages of 1000! That's a surprisingly high number. Let's plot the significant averages of 1000 with their confidence intervals:"
   ]
  },
  {
   "cell_type": "code",
   "execution_count": 19,
   "metadata": {},
   "outputs": [
    {
     "data": {
      "image/png": "[encoded data removed]",
      "text/plain": [
       "<matplotlib.figure.Figure at 0xbdaadd8>"
      ]
     },
     "metadata": {},
     "output_type": "display_data"
    }
   ],
   "source": [
    "significant_ao1000 = ao1000_data[ao1000_data.significant].average_of_1000\n",
    "ao1000_errors = ao1000_data[ao1000_data.significant].error_margin\n",
    "\n",
    "significant_ao1000.plot(fmt='*', figsize=(8,6), yerr=ao1000_errors)\n",
    "plt.title('Philipp\\'s significant averages of 1000', fontsize=16)\n",
    "plt.xlabel('')\n",
    "plt.show()"
   ]
  },
  {
   "cell_type": "markdown",
   "metadata": {},
   "source": [
    "This result is in fact very interesting and surprising. The plot shows that Philipp does not only improve statistically significant over time, but that he also had many averages of 1000 that very significantly worse then previous significant averages. \n",
    "\n",
    "The conclusion that can be drawn from this is that there must be other factors in play - *lurking variables* that cannot be derived from the present data. The most relevant such factor is probably Philipp's puzzle. For example, Philipp told me that he started using a 3x3x3 cube of the GAN brand at the beginning of 2015 and that he liked it very much. Consequently, we can see in the plot above that Philipp's average dropped a lot in the first half of 2015. However, his times increase again in the second half of 2015. This could possibly be attributed to his 3x3x3 cube wearing out and becoming worse over time. Similar explanations could apply to the similar trends in 2016 and 2017.\n",
    "\n",
    "In any case, I can only speculate about the reasons behind these local trends here. But on the broader scope, it is obvious that Philipp has improved massively over time!\n",
    "\n",
    "To close the progress analysis, I present some of Philipp's bigger milestones:"
   ]
  },
  {
   "cell_type": "code",
   "execution_count": 20,
   "metadata": {},
   "outputs": [
    {
     "data": {
      "text/html": [
       "<table><tr><th></th><th>value</th><th>CI (alpha = 0.99)</th><th>timestamp</th></tr><tr><td>First average of 1000:</td><td>9.53</td><td>[9.45, 9.61]</td><td>2013-11-22 13:55:50</td><tr><td>First sub-9.0 average of 1000:</td><td>8.99</td><td>[8.91, 9.07]</td><td>2014-01-10 14:49:02</td><tr><td>First sub-8.5 average of 1000:</td><td>8.49</td><td>[8.42, 8.56]</td><td>2014-01-10 23:27:37</td><tr><td>First sub-8.0 average of 1000:</td><td>7.99</td><td>[7.93, 8.05]</td><td>2014-07-10 16:53:56</td><tr><td>First sub-7.5 average of 1000:</td><td>7.49</td><td>[7.44, 7.54]</td><td>2015-05-11 12:41:10</td><tr><td>Best average of 1000:</td><td>6.96</td><td>[6.90, 7.02]</td><td>2018-02-19 19:42:18</td></table>"
      ],
      "text/plain": [
       "<IPython.core.display.HTML object>"
      ]
     },
     "metadata": {},
     "output_type": "display_data"
    }
   ],
   "source": [
    "table = '<table><tr><th></th><th>value</th><th>CI (alpha = 0.99)</th><th>timestamp</th></tr>'\n",
    "\n",
    "table += '<tr><td>First average of 1000:</td><td>{:.2f}</td><td>[{:.2f}, {:.2f}]</td><td>{}</td>'.format(\n",
    "    ao1000_data.iloc[0]['average_of_1000'], ao1000_data.iloc[0]['CI_lower'], \n",
    "    ao1000_data.iloc[0]['CI_upper'], ao1000_data.index[0])\n",
    "\n",
    "for i in [9.0, 8.5, 8.0, 7.5]:\n",
    "    ti = ao1000_data[ao1000_data.average_of_1000 < i].index[0]\n",
    "    ri = ao1000_data.index.get_loc(ti)\n",
    "    table += '<tr><td>First sub-{} average of 1000:</td><td>{:.2f}</td><td>[{:.2f}, {:.2f}]</td><td>{}</td>'.format(i, \n",
    "        ao1000_data.iloc[ri]['average_of_1000'], ao1000_data.iloc[ri]['CI_lower'], ao1000_data.iloc[ri]['CI_upper'], str(ti))\n",
    "    \n",
    "ti = ao1000_data.CI_upper.idxmin()\n",
    "ri = ao1000_data.index.get_loc(ti)\n",
    "table += '<tr><td>Best average of 1000:</td><td>{:.2f}</td><td>[{:.2f}, {:.2f}]</td><td>{}</td>'.format(\n",
    "    ao1000_data.iloc[ri]['average_of_1000'], ao1000_data.iloc[ri]['CI_lower'], ao1000_data.iloc[ri]['CI_upper'], str(ti))\n",
    "\n",
    "table += '</table>'\n",
    "\n",
    "display(HTML(table))"
   ]
  },
  {
   "cell_type": "markdown",
   "metadata": {},
   "source": [
    "## Practice data vs. official results: Philipp's competition performance\n",
    "\n",
    "After analyzing Philipp's practice data in depth, I would now like to compare his official results with his practice data. Or in other words, I would like to judge his official performance based on what could be expected from his practice results. Since single results are generally prone to high fluctuation, I will focus on the average of 5 results only.\n",
    "\n",
    "As a first step, I have to calculate the averages of 5 for Philipp's official 3x3x3 rounds."
   ]
  },
  {
   "cell_type": "code",
   "execution_count": 21,
   "metadata": {},
   "outputs": [
    {
     "data": {
      "text/html": [
       "<div>\n",
       "<style scoped>\n",
       "    .dataframe tbody tr th:only-of-type {\n",
       "        vertical-align: middle;\n",
       "    }\n",
       "\n",
       "    .dataframe tbody tr th {\n",
       "        vertical-align: top;\n",
       "    }\n",
       "\n",
       "    .dataframe thead th {\n",
       "        text-align: right;\n",
       "    }\n",
       "</style>\n",
       "<table border=\"1\" class=\"dataframe\">\n",
       "  <thead>\n",
       "    <tr style=\"text-align: right;\">\n",
       "      <th></th>\n",
       "      <th>competitionId</th>\n",
       "      <th>roundTypeId</th>\n",
       "      <th>average</th>\n",
       "    </tr>\n",
       "    <tr>\n",
       "      <th>date</th>\n",
       "      <th></th>\n",
       "      <th></th>\n",
       "      <th></th>\n",
       "    </tr>\n",
       "  </thead>\n",
       "  <tbody>\n",
       "    <tr>\n",
       "      <th>2013-11-23</th>\n",
       "      <td>GermanNationals2013</td>\n",
       "      <td>1</td>\n",
       "      <td>8.58</td>\n",
       "    </tr>\n",
       "    <tr>\n",
       "      <th>2013-11-23</th>\n",
       "      <td>GermanNationals2013</td>\n",
       "      <td>2</td>\n",
       "      <td>9.06</td>\n",
       "    </tr>\n",
       "    <tr>\n",
       "      <th>2013-11-23</th>\n",
       "      <td>GermanNationals2013</td>\n",
       "      <td>f</td>\n",
       "      <td>8.99</td>\n",
       "    </tr>\n",
       "    <tr>\n",
       "      <th>2014-01-03</th>\n",
       "      <td>DuisburgWinter2014</td>\n",
       "      <td>1</td>\n",
       "      <td>9.01</td>\n",
       "    </tr>\n",
       "    <tr>\n",
       "      <th>2014-01-03</th>\n",
       "      <td>DuisburgWinter2014</td>\n",
       "      <td>2</td>\n",
       "      <td>8.71</td>\n",
       "    </tr>\n",
       "  </tbody>\n",
       "</table>\n",
       "</div>"
      ],
      "text/plain": [
       "                  competitionId roundTypeId  average\n",
       "date                                                \n",
       "2013-11-23  GermanNationals2013           1     8.58\n",
       "2013-11-23  GermanNationals2013           2     9.06\n",
       "2013-11-23  GermanNationals2013           f     8.99\n",
       "2014-01-03   DuisburgWinter2014           1     9.01\n",
       "2014-01-03   DuisburgWinter2014           2     8.71"
      ]
     },
     "execution_count": 21,
     "metadata": {},
     "output_type": "execute_result"
    }
   ],
   "source": [
    "comp_averages = official_data.pivot_table(index=['competitionId','roundTypeId'], aggfunc=get_average).reset_index()\n",
    "comp_rounds = official_data[['competitionId','roundTypeId']].drop_duplicates().reset_index()\n",
    "official_averages = comp_rounds.merge(comp_averages, on=['competitionId','roundTypeId'])\n",
    "official_averages = official_averages.set_index('date').rename(columns={'value': 'average'}).drop('attempt', axis=1)\n",
    "official_averages.head()"
   ]
  },
  {
   "cell_type": "markdown",
   "metadata": {},
   "source": [
    "Let's have a look at them!"
   ]
  },
  {
   "cell_type": "code",
   "execution_count": 22,
   "metadata": {},
   "outputs": [
    {
     "data": {
      "image/png": "[encoded data removed]",
      "text/plain": [
       "<matplotlib.figure.Figure at 0xd5f0f60>"
      ]
     },
     "metadata": {},
     "output_type": "display_data"
    }
   ],
   "source": [
    "official_averages['average'].plot(style='*', figsize=(10,6))\n",
    "plt.title('Philipp\\'s official averages of 5 over time', fontsize=16)\n",
    "plt.xlabel('')\n",
    "plt.show()"
   ]
  },
  {
   "cell_type": "markdown",
   "metadata": {},
   "source": [
    "### Z-scores\n",
    "\n",
    "To obtain a base for judging Philipp's official performance based on his practice results, I will now take the following approach:\n",
    "\n",
    "1. For each point in time, I calculate the rolling mean and standard deviation of the last 1000 averages of 5.\n",
    "2. I resample the data to a daily period, always taking the last values for each day and filling days without practice solves with the values from the most recent available values.\n",
    "3. I merge this data with Philipp's official average data, so that each official average is matched with the rolling mean and standard deviation of the last 1000 averages of 5 he did prior to the respective competition.\n",
    "4. I use these values to compute [Z-scores](https://en.wikipedia.org/wiki/Standard_score) for the official averages, i.e. the number of standard deviations that the average is away from the mean of Philipp's most recent 1000 averages of 5 at home. The Z-scores will then serve as normalized scores to judge Philipp's official performance."
   ]
  },
  {
   "cell_type": "code",
   "execution_count": 23,
   "metadata": {},
   "outputs": [
    {
     "name": "stdout",
     "output_type": "stream",
     "text": [
      "<class 'pandas.core.frame.DataFrame'>\n",
      "DatetimeIndex: 1551 entries, 2013-11-22 to 2018-02-19\n",
      "Freq: D\n",
      "Data columns (total 2 columns):\n",
      "rolling_ao5_mean    1551 non-null float64\n",
      "rolling_ao5_std     1551 non-null float64\n",
      "dtypes: float64(2)\n",
      "memory usage: 36.4 KB\n"
     ]
    }
   ],
   "source": [
    "# step 1\n",
    "ao5_data = practice_data[['average_of_5']].copy()\n",
    "ao5_data['rolling_ao5_mean'] = ao5_data.average_of_5.rolling(window=1000).mean()\n",
    "ao5_data['rolling_ao5_std'] = ao5_data.average_of_5.rolling(window=1000).std()\n",
    "ao5_data = ao5_data[['rolling_ao5_mean','rolling_ao5_std']].resample('D').last().ffill().dropna()\n",
    "ao5_data.info()"
   ]
  },
  {
   "cell_type": "code",
   "execution_count": 24,
   "metadata": {},
   "outputs": [
    {
     "data": {
      "text/html": [
       "<div>\n",
       "<style scoped>\n",
       "    .dataframe tbody tr th:only-of-type {\n",
       "        vertical-align: middle;\n",
       "    }\n",
       "\n",
       "    .dataframe tbody tr th {\n",
       "        vertical-align: top;\n",
       "    }\n",
       "\n",
       "    .dataframe thead th {\n",
       "        text-align: right;\n",
       "    }\n",
       "</style>\n",
       "<table border=\"1\" class=\"dataframe\">\n",
       "  <thead>\n",
       "    <tr style=\"text-align: right;\">\n",
       "      <th></th>\n",
       "      <th>competitionId</th>\n",
       "      <th>roundTypeId</th>\n",
       "      <th>average</th>\n",
       "      <th>rolling_ao5_mean</th>\n",
       "      <th>rolling_ao5_std</th>\n",
       "    </tr>\n",
       "    <tr>\n",
       "      <th>date</th>\n",
       "      <th></th>\n",
       "      <th></th>\n",
       "      <th></th>\n",
       "      <th></th>\n",
       "      <th></th>\n",
       "    </tr>\n",
       "  </thead>\n",
       "  <tbody>\n",
       "    <tr>\n",
       "      <th>2013-11-23</th>\n",
       "      <td>GermanNationals2013</td>\n",
       "      <td>1</td>\n",
       "      <td>8.58</td>\n",
       "      <td>9.29862</td>\n",
       "      <td>0.618688</td>\n",
       "    </tr>\n",
       "    <tr>\n",
       "      <th>2013-11-23</th>\n",
       "      <td>GermanNationals2013</td>\n",
       "      <td>2</td>\n",
       "      <td>9.06</td>\n",
       "      <td>9.29862</td>\n",
       "      <td>0.618688</td>\n",
       "    </tr>\n",
       "    <tr>\n",
       "      <th>2013-11-23</th>\n",
       "      <td>GermanNationals2013</td>\n",
       "      <td>f</td>\n",
       "      <td>8.99</td>\n",
       "      <td>9.29862</td>\n",
       "      <td>0.618688</td>\n",
       "    </tr>\n",
       "    <tr>\n",
       "      <th>2014-01-03</th>\n",
       "      <td>DuisburgWinter2014</td>\n",
       "      <td>1</td>\n",
       "      <td>9.01</td>\n",
       "      <td>9.08285</td>\n",
       "      <td>0.622664</td>\n",
       "    </tr>\n",
       "    <tr>\n",
       "      <th>2014-01-03</th>\n",
       "      <td>DuisburgWinter2014</td>\n",
       "      <td>2</td>\n",
       "      <td>8.71</td>\n",
       "      <td>9.08285</td>\n",
       "      <td>0.622664</td>\n",
       "    </tr>\n",
       "  </tbody>\n",
       "</table>\n",
       "</div>"
      ],
      "text/plain": [
       "                  competitionId roundTypeId  average  rolling_ao5_mean  \\\n",
       "date                                                                     \n",
       "2013-11-23  GermanNationals2013           1     8.58           9.29862   \n",
       "2013-11-23  GermanNationals2013           2     9.06           9.29862   \n",
       "2013-11-23  GermanNationals2013           f     8.99           9.29862   \n",
       "2014-01-03   DuisburgWinter2014           1     9.01           9.08285   \n",
       "2014-01-03   DuisburgWinter2014           2     8.71           9.08285   \n",
       "\n",
       "            rolling_ao5_std  \n",
       "date                         \n",
       "2013-11-23         0.618688  \n",
       "2013-11-23         0.618688  \n",
       "2013-11-23         0.618688  \n",
       "2014-01-03         0.622664  \n",
       "2014-01-03         0.622664  "
      ]
     },
     "execution_count": 24,
     "metadata": {},
     "output_type": "execute_result"
    }
   ],
   "source": [
    "# step 2 & 3\n",
    "ao5_data_comp_dates = ao5_data.reindex(official_averages.index.unique(), method='ffill')\n",
    "official_averages = official_averages.merge(ao5_data_comp_dates, left_index=True, right_index=True)\n",
    "official_averages.head()"
   ]
  },
  {
   "cell_type": "code",
   "execution_count": 25,
   "metadata": {},
   "outputs": [
    {
     "data": {
      "text/html": [
       "<div>\n",
       "<style scoped>\n",
       "    .dataframe tbody tr th:only-of-type {\n",
       "        vertical-align: middle;\n",
       "    }\n",
       "\n",
       "    .dataframe tbody tr th {\n",
       "        vertical-align: top;\n",
       "    }\n",
       "\n",
       "    .dataframe thead th {\n",
       "        text-align: right;\n",
       "    }\n",
       "</style>\n",
       "<table border=\"1\" class=\"dataframe\">\n",
       "  <thead>\n",
       "    <tr style=\"text-align: right;\">\n",
       "      <th></th>\n",
       "      <th>zscore</th>\n",
       "    </tr>\n",
       "  </thead>\n",
       "  <tbody>\n",
       "    <tr>\n",
       "      <th>count</th>\n",
       "      <td>120.000000</td>\n",
       "    </tr>\n",
       "    <tr>\n",
       "      <th>mean</th>\n",
       "      <td>0.329345</td>\n",
       "    </tr>\n",
       "    <tr>\n",
       "      <th>std</th>\n",
       "      <td>0.955599</td>\n",
       "    </tr>\n",
       "    <tr>\n",
       "      <th>min</th>\n",
       "      <td>-1.456960</td>\n",
       "    </tr>\n",
       "    <tr>\n",
       "      <th>25%</th>\n",
       "      <td>-0.449612</td>\n",
       "    </tr>\n",
       "    <tr>\n",
       "      <th>50%</th>\n",
       "      <td>0.307313</td>\n",
       "    </tr>\n",
       "    <tr>\n",
       "      <th>75%</th>\n",
       "      <td>0.925322</td>\n",
       "    </tr>\n",
       "    <tr>\n",
       "      <th>max</th>\n",
       "      <td>3.704543</td>\n",
       "    </tr>\n",
       "  </tbody>\n",
       "</table>\n",
       "</div>"
      ],
      "text/plain": [
       "           zscore\n",
       "count  120.000000\n",
       "mean     0.329345\n",
       "std      0.955599\n",
       "min     -1.456960\n",
       "25%     -0.449612\n",
       "50%      0.307313\n",
       "75%      0.925322\n",
       "max      3.704543"
      ]
     },
     "execution_count": 25,
     "metadata": {},
     "output_type": "execute_result"
    }
   ],
   "source": [
    "# step 4\n",
    "official_averages['zscore'] = (official_averages['average'] - \n",
    "                               official_averages['rolling_ao5_mean']) / official_averages['rolling_ao5_std']\n",
    "official_averages[['zscore']].describe()"
   ]
  },
  {
   "cell_type": "markdown",
   "metadata": {},
   "source": [
    "Great, this worked well! The table above now shows the descriptive summary of the calculated Z-scores, which already gives a good first insight. The mean of ~0.33 for example is very interesting. This shows that Philipp on average performs worse in competition compared to his practice results. Further, the absolute values of the minimum and the 25% quantile are lower than the maximum value and the 75% quantile, which shows that it is easier to get a particularly bad average in competition than a particularly good one. \n",
    "\n",
    "All of this is not very surprising, since the conditions during official WCA competitions are generally more stressful and the pressure is significantly higher compared to practicing at home. Given this, I would still say that Philipp performs pretty well during official competitions and that an average Z-score of ~0.33 is very reasonable.\n",
    "\n",
    "In particular, Philipp still managed to beat his recent home results in 44 out of 120 official averages since November 2013:"
   ]
  },
  {
   "cell_type": "code",
   "execution_count": 26,
   "metadata": {},
   "outputs": [
    {
     "data": {
      "text/plain": [
       " 1.0    76\n",
       "-1.0    44\n",
       "Name: zscore, dtype: int64"
      ]
     },
     "execution_count": 26,
     "metadata": {},
     "output_type": "execute_result"
    }
   ],
   "source": [
    "np.sign(official_averages['zscore']).value_counts()"
   ]
  },
  {
   "cell_type": "markdown",
   "metadata": {},
   "source": [
    "Moreover, here are Philipp's top 5 averages with lowest Z-scores (the relatively best averages):"
   ]
  },
  {
   "cell_type": "code",
   "execution_count": 27,
   "metadata": {},
   "outputs": [
    {
     "data": {
      "text/html": [
       "<div>\n",
       "<style scoped>\n",
       "    .dataframe tbody tr th:only-of-type {\n",
       "        vertical-align: middle;\n",
       "    }\n",
       "\n",
       "    .dataframe tbody tr th {\n",
       "        vertical-align: top;\n",
       "    }\n",
       "\n",
       "    .dataframe thead th {\n",
       "        text-align: right;\n",
       "    }\n",
       "</style>\n",
       "<table border=\"1\" class=\"dataframe\">\n",
       "  <thead>\n",
       "    <tr style=\"text-align: right;\">\n",
       "      <th></th>\n",
       "      <th>competitionId</th>\n",
       "      <th>roundTypeId</th>\n",
       "      <th>average</th>\n",
       "      <th>rolling_ao5_mean</th>\n",
       "      <th>rolling_ao5_std</th>\n",
       "      <th>zscore</th>\n",
       "    </tr>\n",
       "    <tr>\n",
       "      <th>date</th>\n",
       "      <th></th>\n",
       "      <th></th>\n",
       "      <th></th>\n",
       "      <th></th>\n",
       "      <th></th>\n",
       "      <th></th>\n",
       "    </tr>\n",
       "  </thead>\n",
       "  <tbody>\n",
       "    <tr>\n",
       "      <th>2015-02-21</th>\n",
       "      <td>HessenOpen2015</td>\n",
       "      <td>f</td>\n",
       "      <td>7.65</td>\n",
       "      <td>8.46067</td>\n",
       "      <td>0.556412</td>\n",
       "      <td>-1.456960</td>\n",
       "    </tr>\n",
       "    <tr>\n",
       "      <th>2014-08-08</th>\n",
       "      <td>Euro2014</td>\n",
       "      <td>3</td>\n",
       "      <td>7.82</td>\n",
       "      <td>8.57976</td>\n",
       "      <td>0.532896</td>\n",
       "      <td>-1.425718</td>\n",
       "    </tr>\n",
       "    <tr>\n",
       "      <th>2013-11-23</th>\n",
       "      <td>GermanNationals2013</td>\n",
       "      <td>1</td>\n",
       "      <td>8.58</td>\n",
       "      <td>9.29862</td>\n",
       "      <td>0.618688</td>\n",
       "      <td>-1.161522</td>\n",
       "    </tr>\n",
       "    <tr>\n",
       "      <th>2016-10-07</th>\n",
       "      <td>GermanNationals2016</td>\n",
       "      <td>3</td>\n",
       "      <td>7.20</td>\n",
       "      <td>7.79254</td>\n",
       "      <td>0.527621</td>\n",
       "      <td>-1.123041</td>\n",
       "    </tr>\n",
       "    <tr>\n",
       "      <th>2017-01-06</th>\n",
       "      <td>Cubelonia2017</td>\n",
       "      <td>2</td>\n",
       "      <td>7.10</td>\n",
       "      <td>7.62019</td>\n",
       "      <td>0.485806</td>\n",
       "      <td>-1.070778</td>\n",
       "    </tr>\n",
       "  </tbody>\n",
       "</table>\n",
       "</div>"
      ],
      "text/plain": [
       "                  competitionId roundTypeId  average  rolling_ao5_mean  \\\n",
       "date                                                                     \n",
       "2015-02-21       HessenOpen2015           f     7.65           8.46067   \n",
       "2014-08-08             Euro2014           3     7.82           8.57976   \n",
       "2013-11-23  GermanNationals2013           1     8.58           9.29862   \n",
       "2016-10-07  GermanNationals2016           3     7.20           7.79254   \n",
       "2017-01-06        Cubelonia2017           2     7.10           7.62019   \n",
       "\n",
       "            rolling_ao5_std    zscore  \n",
       "date                                   \n",
       "2015-02-21         0.556412 -1.456960  \n",
       "2014-08-08         0.532896 -1.425718  \n",
       "2013-11-23         0.618688 -1.161522  \n",
       "2016-10-07         0.527621 -1.123041  \n",
       "2017-01-06         0.485806 -1.070778  "
      ]
     },
     "execution_count": 27,
     "metadata": {},
     "output_type": "execute_result"
    }
   ],
   "source": [
    "official_averages.sort_values('zscore').head()"
   ]
  },
  {
   "cell_type": "markdown",
   "metadata": {},
   "source": [
    "Also, here are the top 5 averages with highest Z-scores (the relatively worst averages):"
   ]
  },
  {
   "cell_type": "code",
   "execution_count": 28,
   "metadata": {},
   "outputs": [
    {
     "data": {
      "text/html": [
       "<div>\n",
       "<style scoped>\n",
       "    .dataframe tbody tr th:only-of-type {\n",
       "        vertical-align: middle;\n",
       "    }\n",
       "\n",
       "    .dataframe tbody tr th {\n",
       "        vertical-align: top;\n",
       "    }\n",
       "\n",
       "    .dataframe thead th {\n",
       "        text-align: right;\n",
       "    }\n",
       "</style>\n",
       "<table border=\"1\" class=\"dataframe\">\n",
       "  <thead>\n",
       "    <tr style=\"text-align: right;\">\n",
       "      <th></th>\n",
       "      <th>competitionId</th>\n",
       "      <th>roundTypeId</th>\n",
       "      <th>average</th>\n",
       "      <th>rolling_ao5_mean</th>\n",
       "      <th>rolling_ao5_std</th>\n",
       "      <th>zscore</th>\n",
       "    </tr>\n",
       "    <tr>\n",
       "      <th>date</th>\n",
       "      <th></th>\n",
       "      <th></th>\n",
       "      <th></th>\n",
       "      <th></th>\n",
       "      <th></th>\n",
       "      <th></th>\n",
       "    </tr>\n",
       "  </thead>\n",
       "  <tbody>\n",
       "    <tr>\n",
       "      <th>2016-04-09</th>\n",
       "      <td>GermanOpen2016</td>\n",
       "      <td>2</td>\n",
       "      <td>9.50</td>\n",
       "      <td>7.61733</td>\n",
       "      <td>0.508206</td>\n",
       "      <td>3.704543</td>\n",
       "    </tr>\n",
       "    <tr>\n",
       "      <th>2017-09-16</th>\n",
       "      <td>MonnemCityCubing2017</td>\n",
       "      <td>f</td>\n",
       "      <td>8.71</td>\n",
       "      <td>7.09392</td>\n",
       "      <td>0.489680</td>\n",
       "      <td>3.300277</td>\n",
       "    </tr>\n",
       "    <tr>\n",
       "      <th>2017-07-13</th>\n",
       "      <td>WC2017</td>\n",
       "      <td>3</td>\n",
       "      <td>8.59</td>\n",
       "      <td>7.34531</td>\n",
       "      <td>0.465345</td>\n",
       "      <td>2.674768</td>\n",
       "    </tr>\n",
       "    <tr>\n",
       "      <th>2015-06-06</th>\n",
       "      <td>VelbertOpen2015</td>\n",
       "      <td>1</td>\n",
       "      <td>8.93</td>\n",
       "      <td>7.85528</td>\n",
       "      <td>0.536347</td>\n",
       "      <td>2.003777</td>\n",
       "    </tr>\n",
       "    <tr>\n",
       "      <th>2016-10-29</th>\n",
       "      <td>SebraOpen2016</td>\n",
       "      <td>1</td>\n",
       "      <td>8.88</td>\n",
       "      <td>7.86253</td>\n",
       "      <td>0.524101</td>\n",
       "      <td>1.941361</td>\n",
       "    </tr>\n",
       "  </tbody>\n",
       "</table>\n",
       "</div>"
      ],
      "text/plain": [
       "                   competitionId roundTypeId  average  rolling_ao5_mean  \\\n",
       "date                                                                      \n",
       "2016-04-09        GermanOpen2016           2     9.50           7.61733   \n",
       "2017-09-16  MonnemCityCubing2017           f     8.71           7.09392   \n",
       "2017-07-13                WC2017           3     8.59           7.34531   \n",
       "2015-06-06       VelbertOpen2015           1     8.93           7.85528   \n",
       "2016-10-29         SebraOpen2016           1     8.88           7.86253   \n",
       "\n",
       "            rolling_ao5_std    zscore  \n",
       "date                                   \n",
       "2016-04-09         0.508206  3.704543  \n",
       "2017-09-16         0.489680  3.300277  \n",
       "2017-07-13         0.465345  2.674768  \n",
       "2015-06-06         0.536347  2.003777  \n",
       "2016-10-29         0.524101  1.941361  "
      ]
     },
     "execution_count": 28,
     "metadata": {},
     "output_type": "execute_result"
    }
   ],
   "source": [
    "official_averages.sort_values('zscore', ascending=False).head()"
   ]
  },
  {
   "cell_type": "markdown",
   "metadata": {},
   "source": [
    "Out of the averages with highest Z-score above, the most interesting one is probably the one from the semi-finals of the Speedcubing World Championships 2017 (WC2017), which cost Philipp the participation in the finals. At the time, Philipp was very upset about his performance and stated that this average was terrible for him compared to his home results. My analysis definitely proves him right."
   ]
  },
  {
   "cell_type": "markdown",
   "metadata": {},
   "source": [
    "### Linear regression\n",
    "\n",
    "Before visualizing the Z-scores, I will apply linear regression to determine how the Z-scores have developed over time."
   ]
  },
  {
   "cell_type": "code",
   "execution_count": 29,
   "metadata": {},
   "outputs": [
    {
     "data": {
      "text/plain": [
       "LinregressResult(slope=0.00036508684808091694, intercept=-0.017089014388433466, rvalue=0.18614639749556713, pvalue=0.041788931561967058, stderr=0.00017739559890737544)"
      ]
     },
     "execution_count": 29,
     "metadata": {},
     "output_type": "execute_result"
    }
   ],
   "source": [
    "official_averages['days_passed'] = (official_averages.index - official_averages.index.min()).astype('timedelta64[D]')\n",
    "linregress_zscore = scipy.stats.linregress(official_averages.days_passed, official_averages['zscore'])\n",
    "slope, intercept, r_value, p_value, std_err = linregress_zscore\n",
    "linregress_zscore"
   ]
  },
  {
   "cell_type": "markdown",
   "metadata": {},
   "source": [
    "Alright, that's a pretty good result! The slope of the linear regression line is positive (although very small), which means that Philipp actually got slightly worse in competition over time compared to his practice results. This actually makes sense, because ranking higher in the world naturally increases pressure. However, this must definitely not be overinterpreted, especially because the 99% confidence interval for the slope includes zero:"
   ]
  },
  {
   "cell_type": "code",
   "execution_count": 30,
   "metadata": {},
   "outputs": [
    {
     "data": {
      "text/plain": [
       "(-9.1853933905307989e-05, 0.00082202763006714182)"
      ]
     },
     "execution_count": 30,
     "metadata": {},
     "output_type": "execute_result"
    }
   ],
   "source": [
    "(slope - scipy.stats.norm.ppf(0.995) * std_err, slope + scipy.stats.norm.ppf(0.995) * std_err)"
   ]
  },
  {
   "cell_type": "markdown",
   "metadata": {},
   "source": [
    "However, the p-value of ~0.04 allows to reject the null hypothesis that the slop is zero at a confidence level of 95%. At last, the r-squared value of ~0.186 tells us that the regression line is able to explain ~18.6% of the total variance observed, which is acceptable for a linear model given the high variance of the Z-scores.\n",
    "\n",
    "Finally, here is a visualization of the Z-scores over time including their regression line:"
   ]
  },
  {
   "cell_type": "code",
   "execution_count": 31,
   "metadata": {},
   "outputs": [
    {
     "data": {
      "image/png": "[encoded data removed]",
      "text/plain": [
       "<matplotlib.figure.Figure at 0xba47438>"
      ]
     },
     "metadata": {},
     "output_type": "display_data"
    }
   ],
   "source": [
    "official_averages['zscore'].plot(style='*', figsize=(10,6), label='Z-scores')\n",
    "official_averages['linregress'] = (official_averages['days_passed'] * slope) + intercept\n",
    "official_averages['linregress'].plot(label='Regression line')\n",
    "plt.title('Z-scores of Philipp\\'s official averages of 5', fontsize=16)\n",
    "plt.xlabel('')\n",
    "plt.legend(fontsize=14)\n",
    "plt.show()"
   ]
  },
  {
   "cell_type": "markdown",
   "metadata": {},
   "source": [
    "## Overcoming barriers: official sub7 average\n",
    "\n",
    "Before coming to the end of my analysis of Philipp's data, I want to devote another short analysis to a very particular topic: Philipp's quest for an official average below 7 seconds. Since I experienced Philipp at WCA competitions myself, I know that he struggled with this goal for the majority of 2017, before finally reaching his goal in November 2017:"
   ]
  },
  {
   "cell_type": "code",
   "execution_count": 32,
   "metadata": {},
   "outputs": [
    {
     "data": {
      "text/html": [
       "<div>\n",
       "<style scoped>\n",
       "    .dataframe tbody tr th:only-of-type {\n",
       "        vertical-align: middle;\n",
       "    }\n",
       "\n",
       "    .dataframe tbody tr th {\n",
       "        vertical-align: top;\n",
       "    }\n",
       "\n",
       "    .dataframe thead th {\n",
       "        text-align: right;\n",
       "    }\n",
       "</style>\n",
       "<table border=\"1\" class=\"dataframe\">\n",
       "  <thead>\n",
       "    <tr style=\"text-align: right;\">\n",
       "      <th></th>\n",
       "      <th>competitionId</th>\n",
       "      <th>roundTypeId</th>\n",
       "      <th>average</th>\n",
       "    </tr>\n",
       "    <tr>\n",
       "      <th>date</th>\n",
       "      <th></th>\n",
       "      <th></th>\n",
       "      <th></th>\n",
       "    </tr>\n",
       "  </thead>\n",
       "  <tbody>\n",
       "    <tr>\n",
       "      <th>2017-11-25</th>\n",
       "      <td>WSMO2017</td>\n",
       "      <td>1</td>\n",
       "      <td>6.82</td>\n",
       "    </tr>\n",
       "    <tr>\n",
       "      <th>2017-11-25</th>\n",
       "      <td>WSMO2017</td>\n",
       "      <td>f</td>\n",
       "      <td>6.89</td>\n",
       "    </tr>\n",
       "    <tr>\n",
       "      <th>2017-12-02</th>\n",
       "      <td>BerlinKubusProjekt2017</td>\n",
       "      <td>2</td>\n",
       "      <td>6.95</td>\n",
       "    </tr>\n",
       "    <tr>\n",
       "      <th>2017-12-02</th>\n",
       "      <td>BerlinKubusProjekt2017</td>\n",
       "      <td>f</td>\n",
       "      <td>6.77</td>\n",
       "    </tr>\n",
       "  </tbody>\n",
       "</table>\n",
       "</div>"
      ],
      "text/plain": [
       "                     competitionId roundTypeId  average\n",
       "date                                                   \n",
       "2017-11-25                WSMO2017           1     6.82\n",
       "2017-11-25                WSMO2017           f     6.89\n",
       "2017-12-02  BerlinKubusProjekt2017           2     6.95\n",
       "2017-12-02  BerlinKubusProjekt2017           f     6.77"
      ]
     },
     "execution_count": 32,
     "metadata": {},
     "output_type": "execute_result"
    }
   ],
   "source": [
    "official_averages[official_averages.average < 7][['competitionId','roundTypeId','average']]"
   ]
  },
  {
   "cell_type": "markdown",
   "metadata": {},
   "source": [
    "As can be seen above, Philipp not only achieved a sub7 average in competition, but he also achieved more such averages afterwards. It almost seems like once this goal was achieved a lot of pressure was gone. This inspired me to ask the following question: *Did finally breaking this barrier lead to a statistically significant improvement in Philipp's performance?*\n",
    "\n",
    "To answer this question, I will first have a look at Philipp's mean Z-score before breaking the sub7 barrier (starting at the beginning of 2017) and after breaking the sub7 barrier:"
   ]
  },
  {
   "cell_type": "code",
   "execution_count": 33,
   "metadata": {},
   "outputs": [
    {
     "data": {
      "text/plain": [
       "0.62721657419316"
      ]
     },
     "execution_count": 33,
     "metadata": {},
     "output_type": "execute_result"
    }
   ],
   "source": [
    "official_averages['2017-01-01':'2017-11-24'].zscore.mean()"
   ]
  },
  {
   "cell_type": "code",
   "execution_count": 34,
   "metadata": {},
   "outputs": [
    {
     "data": {
      "text/plain": [
       "0.10189064731354085"
      ]
     },
     "execution_count": 34,
     "metadata": {},
     "output_type": "execute_result"
    }
   ],
   "source": [
    "official_averages['2017-11-25':].zscore.mean()"
   ]
  },
  {
   "cell_type": "markdown",
   "metadata": {},
   "source": [
    "Indeed, there is a clear difference between both means. But is that difference statistically significant? To answer this, I will use the [Mann–Whitney *U* test](https://en.wikipedia.org/wiki/Mann%E2%80%93Whitney_U_test), which allows for hypothesis testing without making assumptions about the underlying distributions. The test assumes as null hypothesis that both samples originate from the same distribution. If the returned p-value is below a certain threshold (determined by the chosen confidence level), the null hypothesis can be rejected in favour of the alternative hypothesis that the underlying distributions are different.\n",
    "\n",
    "Let's do the test!"
   ]
  },
  {
   "cell_type": "code",
   "execution_count": 35,
   "metadata": {},
   "outputs": [
    {
     "data": {
      "text/plain": [
       "MannwhitneyuResult(statistic=186.0, pvalue=0.020322646045552041)"
      ]
     },
     "execution_count": 35,
     "metadata": {},
     "output_type": "execute_result"
    }
   ],
   "source": [
    "before_sub7 = official_averages['2017-01-01':'2017-11-24'].zscore.values\n",
    "after_sub7 = official_averages['2017-11-25':].zscore.values\n",
    "scipy.stats.mannwhitneyu(before_sub7, after_sub7)"
   ]
  },
  {
   "cell_type": "markdown",
   "metadata": {},
   "source": [
    "Indeed, the test statistic returns a p-value of ~0.02, so that the null hypothesis can be rejected at a confidence level of $\\alpha > 95\\%$. For the given situation, this means that breaking the sub7 barrier did indeed cause a statistically significant improvement of Philipp's official performance!\n",
    "\n",
    "Last but not least, it is good practice to report an effect size for such an inferential test. According to Wikipedia, a common measure of effect size for the Mann–Whitney U test is the so-called [common language effect size](http://core.ecu.edu/psyc/wuenschk/docs30/CL.pdf), which provides an estimate for the probability that a randomly selected score from the one population will be greater than a randomly sampled score from the other population. To calculate the common language effect size, I generate all possible pairs between both samples and determine the proportion of pairs where the before-sub7 Z-score is greater than the after-sub7 Z-score."
   ]
  },
  {
   "cell_type": "code",
   "execution_count": 36,
   "metadata": {},
   "outputs": [
    {
     "name": "stdout",
     "output_type": "stream",
     "text": [
      "Common language effect size: 68.21%\n"
     ]
    }
   ],
   "source": [
    "pairs = [(x,y) for x in before_sub7 for y in after_sub7]\n",
    "print('Common language effect size: {:.2f}%'.format(100*len([p for p in pairs if p[0] > p[1]])/len(pairs)))"
   ]
  },
  {
   "cell_type": "markdown",
   "metadata": {},
   "source": [
    "This can be translated to saying that there is a 68.21% chance that Philipp performs better in near-future competitions than before achieving his first oficial sub7 average. Therefore: Good luck Philipp!"
   ]
  },
  {
   "cell_type": "markdown",
   "metadata": {},
   "source": [
    "## Conclusion"
   ]
  },
  {
   "cell_type": "markdown",
   "metadata": {},
   "source": [
    "Analyzing Philipp's data has definitely been a fun project and thus I want to thank Philipp once more for providing his practice dataset to me. Overall, I think I have extracted a couple of interesting results and I hope that others reading this analysis will share this feeling!"
   ]
  },
  {
   "cell_type": "code",
   "execution_count": null,
   "metadata": {
    "collapsed": true
   },
   "outputs": [],
   "source": []
  }
 ],
 "metadata": {
  "kernelspec": {
   "display_name": "Python [conda env:Anaconda3]",
   "language": "python",
   "name": "conda-env-Anaconda3-py"
  },
  "language_info": {
   "codemirror_mode": {
    "name": "ipython",
    "version": 3
   },
   "file_extension": ".py",
   "mimetype": "text/x-python",
   "name": "python",
   "nbconvert_exporter": "python",
   "pygments_lexer": "ipython3",
   "version": "3.6.4"
  }
 },
 "nbformat": 4,
 "nbformat_minor": 2
}
